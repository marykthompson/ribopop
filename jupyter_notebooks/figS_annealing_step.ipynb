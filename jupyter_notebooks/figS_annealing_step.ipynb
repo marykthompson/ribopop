{
 "cells": [
  {
   "cell_type": "markdown",
   "metadata": {},
   "source": [
    "### Fig +/- annealing step\n",
    "- Show results of removing the annealing step on three individual primers"
   ]
  },
  {
   "cell_type": "code",
   "execution_count": 1,
   "metadata": {},
   "outputs": [],
   "source": [
    "#Imports\n",
    "import sys\n",
    "import pandas as pd\n",
    "import matplotlib.pyplot as plt\n",
    "import os\n",
    "import gffutils\n",
    "import seaborn as sns\n",
    "import numpy as np\n",
    "import scipy.stats as stats\n",
    "\n",
    "sys.path.append('../scripts/')\n",
    "from plot_helpers import *\n",
    "import analyze_qpcr_plate\n",
    "\n",
    "%matplotlib inline\n",
    "%load_ext autoreload\n",
    "%autoreload 2"
   ]
  },
  {
   "cell_type": "code",
   "execution_count": 2,
   "metadata": {},
   "outputs": [],
   "source": [
    "#Make outdir and load the data\n",
    "outdir = '../figures/FS3/'\n",
    "os.makedirs(outdir, exist_ok = True)"
   ]
  },
  {
   "cell_type": "code",
   "execution_count": 3,
   "metadata": {},
   "outputs": [],
   "source": [
    "#Get the +/- annealing experiment data\n",
    "qpcr_dir = os.path.join(results_dir, 'qPCR_data')\n",
    "\n",
    "#annealing test data\n",
    "data = ['190828_anneal_test/20190828_161126_CT003077__QPCRBIOSMALQuantificationPlateViewResults.xlsx', \n",
    "              '200710_retest_100ng_2/20200710_153721_CT003077__QPCRBIOSMALQuantificationPlateViewResults.xlsx',\n",
    "              '200713_yeast_anneal3/20200713_134113_CT003077__QPCRBIOSMALQuantificationPlateViewResults.xlsx']\n",
    "\n",
    "templates  = ['190828_anneal_test/qPCR_analysis_template_rep2_anneal.xlsx',\n",
    "                    '200710_retest_100ng_2/qPCR_analysis_template_retest2_100ng.xlsx',\n",
    "                    '200713_yeast_anneal3/qPCR_analysis_template_yeast_anneal3.xlsx']\n",
    "\n",
    "exps = {'data': [os.path.join(qpcr_dir, i) for i in data],\n",
    "       'templates': [os.path.join(qpcr_dir, i) for i in templates]}\n",
    "\n",
    "df_list = []\n",
    "for i in range(0, len(exps['data'])):\n",
    "    df_list.append(analyze_qpcr_plate.main(exps['data'][i], exps['templates'][i], 'act5c'))\n",
    "df = pd.concat(df_list)"
   ]
  },
  {
   "cell_type": "code",
   "execution_count": 4,
   "metadata": {},
   "outputs": [],
   "source": [
    "#Get the anneal test samples off the plates\n",
    "anneal_df = df.loc[df.index.get_level_values('sample').map(lambda x: x.startswith('B'))].copy()\n",
    "anneal_df['percent_remaining'] = anneal_df['fold_change']*100\n",
    "anneal_df['probe'], anneal_df['experiment'] = zip(*anneal_df.index.get_level_values('sample').map(lambda x: x.split('_')))\n",
    "anneal_df.replace({'experiment': {'direct': 'no anneal'}}, inplace = True)"
   ]
  },
  {
   "cell_type": "code",
   "execution_count": 5,
   "metadata": {},
   "outputs": [
    {
     "name": "stdout",
     "output_type": "stream",
     "text": [
      "anneal/no anneal 0.8985444495952906\n",
      "tmean 5.118903802702558\n",
      "pmean 0.03610892671109859\n"
     ]
    }
   ],
   "source": [
    "#Calculate the p-value for comparison of anneal to no anneal\n",
    "#Better to test the ddCt values because the fold changes have been exponentiated\n",
    "anneal_ddCt_means = anneal_df[anneal_df['experiment'] == 'anneal'].groupby('probe')['ddCt'].mean().values\n",
    "noanneal_ddCt_means = anneal_df[anneal_df['experiment'] == 'no anneal'].groupby('probe')['ddCt'].mean().values\n",
    "\n",
    "#anneal about 90% of noanneal. Therefore 10% decrease with the annealing step.\n",
    "print('anneal/no anneal', 2**-(anneal_ddCt_means - noanneal_ddCt_means).mean())\n",
    "\n",
    "#can do a paired t-test because we are testing the same probe +/- annealing\n",
    "#https://docs.scipy.org/doc/scipy/reference/generated/scipy.stats.ttest_rel.html\n",
    "tmean, pmean = stats.ttest_rel(anneal_ddCt_means, noanneal_ddCt_means)\n",
    "\n",
    "print('tmean', tmean)\n",
    "print('pmean', pmean)"
   ]
  },
  {
   "cell_type": "code",
   "execution_count": 6,
   "metadata": {},
   "outputs": [
    {
     "data": {
      "image/png": "[encoded data removed]",
      "text/plain": [
       "<Figure size 178.583x119.055 with 1 Axes>"
      ]
     },
     "metadata": {
      "needs_background": "light"
     },
     "output_type": "display_data"
    }
   ],
   "source": [
    "#Plot the depletion +/- the denaturation step\n",
    "panel_name = 'S3A'\n",
    "plot = Plotter(corners = [0.16, 0.33, 0.41, 0.62], figsize = (sfig*1.5, sfig))\n",
    "plot.setup_axis()\n",
    "plot.ax = sns.barplot(x=\"probe\", y=\"percent_remaining\", hue = 'experiment', data = anneal_df.reset_index(), \n",
    "                      ci = 'sd', errwidth = 0.75, ax = plot.ax)\n",
    "plot.set_ylabel('% 18S remaining')\n",
    "plot.ax.set_xticklabels([r'#12 (80$\\degree$C)', '#18 (74$\\degree$C)', '#19 (65$\\degree$C)'], rotation = 45)\n",
    "plot.ax.set_ylim(0, 30)\n",
    "plt.legend(bbox_to_anchor = (1, 1), ncol = 1, fontsize = label_fontsize)\n",
    "plot.ax.text(0.0, 0.16, 'probe#\\n(Tm):', ha = 'left', transform = plot.fig.transFigure, fontsize = label_fontsize)\n",
    "lines = plot.ax.lines\n",
    "for line in lines:\n",
    "    line.set_linewidth(0.75)\n",
    "    line.set_color('k')\n",
    "plt.savefig(os.path.join(outdir, '{}.{}'.format(panel_name, outfmt)), dpi = 600)"
   ]
  },
  {
   "cell_type": "code",
   "execution_count": null,
   "metadata": {},
   "outputs": [],
   "source": []
  }
 ],
 "metadata": {
  "kernelspec": {
   "display_name": "Python 3",
   "language": "python",
   "name": "python3"
  },
  "language_info": {
   "codemirror_mode": {
    "name": "ipython",
    "version": 3
   },
   "file_extension": ".py",
   "mimetype": "text/x-python",
   "name": "python",
   "nbconvert_exporter": "python",
   "pygments_lexer": "ipython3",
   "version": "3.7.6"
  }
 },
 "nbformat": 4,
 "nbformat_minor": 4
}
