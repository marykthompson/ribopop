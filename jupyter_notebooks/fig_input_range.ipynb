{
 "cells": [
  {
   "cell_type": "markdown",
   "metadata": {},
   "source": [
    "### Fig input range (Fig 3)\n",
    "- Summarize results of depletion test on 0.5 ng - 5 ug input RNA"
   ]
  },
  {
   "cell_type": "code",
   "execution_count": 1,
   "metadata": {},
   "outputs": [],
   "source": [
    "#Imports\n",
    "import sys\n",
    "import pandas as pd\n",
    "import matplotlib.pyplot as plt\n",
    "import os\n",
    "import gffutils\n",
    "import seaborn as sns\n",
    "import numpy as np\n",
    "import scipy.stats\n",
    "import matplotlib.ticker as plticker\n",
    "loc = plticker.MultipleLocator(base=1.0)\n",
    "\n",
    "sys.path.append('../scripts/')\n",
    "from plot_helpers import *\n",
    "import analyze_qpcr_plate\n",
    "\n",
    "%matplotlib inline\n",
    "%load_ext autoreload\n",
    "%autoreload 2"
   ]
  },
  {
   "cell_type": "code",
   "execution_count": 2,
   "metadata": {},
   "outputs": [],
   "source": [
    "#Make outdir and load the data\n",
    "outdir = '../figures/F3/'\n",
    "os.makedirs(outdir, exist_ok = True)"
   ]
  },
  {
   "cell_type": "code",
   "execution_count": 3,
   "metadata": {},
   "outputs": [],
   "source": [
    "qpcr_dir = os.path.join(results_dir, 'qPCR_data')\n",
    "\n",
    "#0.5 ng to 1 ug input tests\n",
    "low_input_data = ['200708_restest_100ng/20200708_125901_CT003077__QPCRBIOSMALQuantificationPlateViewResults.xlsx',\n",
    "                  '200710_retest_100ng_2/20200710_153721_CT003077__QPCRBIOSMALQuantificationPlateViewResults.xlsx',\n",
    "                  '200714_fly_titrate_repeat/20200714_132125_CT003077__QPCRBIOSMALQuantificationPlateViewResults.xlsx']\n",
    "\n",
    "low_input_template = ['200708_restest_100ng/qPCR_analysis_template_restest_100ng.xlsx', \n",
    "                       '200710_retest_100ng_2/qPCR_analysis_template_retest2_100ng.xlsx',\n",
    "                       '200714_fly_titrate_repeat/qPCR_analysis_template_flytitrate_repeat.xlsx']\n",
    "\n",
    "\n",
    "#5 ug input in 40 ul rxn -- this served as the pre-sequencing QC as well.\n",
    "hi_input_data = ['prep_1_190911/20190911_151311_CT003077__QPCRBIOSMALQuantificationPlateViewResults.xlsx', \n",
    "                  'prep_2_3_190912/20190912_122407_CT003077__QPCRBIOSMALQuantificationPlateViewResults.xlsx']\n",
    "\n",
    "hi_input_template = ['prep_1_190911/qPCR_analysis_template_prep1.xlsx',\n",
    "                      'prep_2_3_190912/qPCR_analysis_template_prep2_3.xlsx']\n",
    "\n",
    "exps = {'data': [os.path.join(qpcr_dir, i) for i in low_input_data] + [os.path.join(qpcr_dir, i) for i in hi_input_data],\n",
    "       'templates': [os.path.join(qpcr_dir, i) for i in low_input_template] + [os.path.join(qpcr_dir, i) for i in hi_input_template]}\n",
    "\n",
    "df_list = []\n",
    "for i in range(0, len(exps['data'])):\n",
    "    df_list.append(analyze_qpcr_plate.main(exps['data'][i], exps['templates'][i], 'act5c'))\n",
    "df = pd.concat(df_list)"
   ]
  },
  {
   "cell_type": "code",
   "execution_count": 4,
   "metadata": {},
   "outputs": [],
   "source": [
    "#get relevant subset of samples:\n",
    "these_samples = ['0.5ng_r1', '0.5ng_r2', '0.5ng_r3', '100ng_r1', '100ng_r2', '100ng_r3', '1ug_r1', '1ug_r2', '1ug_r3',\n",
    "                 'PD_5ug_r1', 'PD_5ug_r2', 'PD_5ug_r3']\n",
    "sum_df = df.loc[pd.IndexSlice[['18S', '28L', '28R'],:, these_samples],].droplevel('denominator').copy()\n",
    "sum_df['input'], sum_df['rep'] = zip(*sum_df.index.get_level_values('sample').map(lambda x: x.rsplit('_', 1)))\n",
    "sum_df['percent_remaining'] = sum_df['fold_change']*100"
   ]
  },
  {
   "cell_type": "code",
   "execution_count": 5,
   "metadata": {},
   "outputs": [
    {
     "data": {
      "image/png": "[encoded data removed]",
      "text/plain": [
       "<Figure size 178.583x119.055 with 1 Axes>"
      ]
     },
     "metadata": {
      "needs_background": "light"
     },
     "output_type": "display_data"
    }
   ],
   "source": [
    "#Fig 3: plot the percent remaining at different input levels:\n",
    "#https://stackoverflow.com/questions/5735208/remove-the-legend-on-a-matplotlib-figure\n",
    "panel_name = '3'\n",
    "plot = Plotter(corners = [0.16, 0.24, 0.84, 0.71], figsize = (sfig*1.5, sfig))\n",
    "plot.nudge_corners(left = True, right = True)\n",
    "plot.setup_axis()\n",
    "plot.ax = sns.barplot(x=\"input\", y=\"percent_remaining\", order = ['0.5ng', '100ng', '1ug', 'PD_5ug'], hue=\"primer\", data = sum_df.reset_index(), \n",
    "                      ci = 'sd', ax = plot.ax)\n",
    "plot.set_ylabel('% target remaining')\n",
    "plot.set_xlabel('amount of input RNA')\n",
    "##plot.add_letter('A')\n",
    "plot.ax.set_xticklabels(['0.5 ng', '100 ng', r'1 $\\mu$g', r'5 $\\mu$g'])\n",
    "plot.ax.set_ylim(0, 2)\n",
    "plt.legend(loc = 'best', ncol = 1, fontsize = label_fontsize)\n",
    "\n",
    "#leg = plot.ax.get_legend().set_visible(False)\n",
    "plot.ax.yaxis.set_major_locator(loc)\n",
    "#seaborn is not respecting rcparams for linewidth, so change it here:\n",
    "lines = plot.ax.lines\n",
    "for line in lines:\n",
    "    line.set_linewidth(0.75)\n",
    "    line.set_color('k')\n",
    "plt.savefig(os.path.join(outdir, '{}.{}'.format(panel_name, outfmt)), dpi = 600)"
   ]
  },
  {
   "cell_type": "code",
   "execution_count": 6,
   "metadata": {},
   "outputs": [
    {
     "data": {
      "text/plain": [
       "input   primer\n",
       "0.5ng   18S       0.874861\n",
       "        28L       0.901496\n",
       "        28R       0.434894\n",
       "100ng   18S       1.375325\n",
       "        28L       0.517386\n",
       "        28R       0.272671\n",
       "1ug     18S       0.786650\n",
       "        28L       0.210476\n",
       "        28R       0.114256\n",
       "PD_5ug  18S       0.669514\n",
       "        28L       0.247320\n",
       "        28R       0.140421\n",
       "Name: percent_remaining, dtype: float64"
      ]
     },
     "execution_count": 6,
     "metadata": {},
     "output_type": "execute_result"
    }
   ],
   "source": [
    "#Report the mean % remaining for each input amount\n",
    "sum_df.groupby(['input', 'primer'])['percent_remaining'].mean()"
   ]
  },
  {
   "cell_type": "code",
   "execution_count": null,
   "metadata": {},
   "outputs": [],
   "source": []
  }
 ],
 "metadata": {
  "kernelspec": {
   "display_name": "Python 3",
   "language": "python",
   "name": "python3"
  },
  "language_info": {
   "codemirror_mode": {
    "name": "ipython",
    "version": 3
   },
   "file_extension": ".py",
   "mimetype": "text/x-python",
   "name": "python",
   "nbconvert_exporter": "python",
   "pygments_lexer": "ipython3",
   "version": "3.7.6"
  }
 },
 "nbformat": 4,
 "nbformat_minor": 4
}
