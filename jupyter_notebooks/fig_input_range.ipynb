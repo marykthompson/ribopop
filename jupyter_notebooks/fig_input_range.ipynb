{
 "cells": [
  {
   "cell_type": "markdown",
   "metadata": {},
   "source": [
    "### Fig input range (Fig 3)\n",
    "- 3A: low-input experiment\n",
    "- 3B: standard input experiment"
   ]
  },
  {
   "cell_type": "code",
   "execution_count": 1,
   "metadata": {},
   "outputs": [],
   "source": [
    "#Imports\n",
    "import sys\n",
    "import pandas as pd\n",
    "import matplotlib.pyplot as plt\n",
    "import os\n",
    "import gffutils\n",
    "import seaborn as sns\n",
    "import numpy as np\n",
    "import scipy.stats\n",
    "import matplotlib.ticker as plticker\n",
    "loc = plticker.MultipleLocator(base=1.0)\n",
    "\n",
    "sys.path.append('../scripts/')\n",
    "from plot_helpers import *\n",
    "import analyze_qpcr_plate\n",
    "\n",
    "%matplotlib inline\n",
    "%load_ext autoreload\n",
    "%autoreload 2"
   ]
  },
  {
   "cell_type": "code",
   "execution_count": 2,
   "metadata": {},
   "outputs": [],
   "source": [
    "#Make outdir and load the data\n",
    "outdir = '../figures/F3/'\n",
    "os.makedirs(outdir, exist_ok = True)"
   ]
  },
  {
   "cell_type": "code",
   "execution_count": 4,
   "metadata": {},
   "outputs": [],
   "source": [
    "qpcr_dir = os.path.join(results_dir, 'qPCR_data')\n",
    "\n",
    "#0.5 ng and 100 ng input in 10 ul rxn\n",
    "low_input_data = ['191021_lotitration_1/20191021_111019_CT003077__QPCRBIOSMALQuantificationPlateViewResults.xlsx']\n",
    "low_input_template  = ['191021_lotitration_1/qPCR_analysis_template_lotitration_1.xlsx']\n",
    "\n",
    "#100 ng and 1 ug input in 50 ul rxn\n",
    "mid_input_data = ['191023_hititration_1/20191023_131420_CT003077__QPCRBIOSMALQuantificationPlateViewResults.xlsx']\n",
    "mid_input_template = ['191023_hititration_1/qPCR_analysis_template_hititration_1.xlsx']\n",
    "\n",
    "#5 ug input in 40 ul rxn -- this served as the pre-sequencing QC as well.\n",
    "hi_input_data = ['prep_1_190911/20190911_151311_CT003077__QPCRBIOSMALQuantificationPlateViewResults.xlsx', \n",
    "                  'prep_2_3_190912/20190912_122407_CT003077__QPCRBIOSMALQuantificationPlateViewResults.xlsx']\n",
    "\n",
    "hi_input_template = ['prep_1_190911/qPCR_analysis_template_prep1.xlsx',\n",
    "                      'prep_2_3_190912/qPCR_analysis_template_prep2_3.xlsx']\n",
    "\n",
    "low_input = {'data': [os.path.join(qpcr_dir, i) for i in low_input_data], \n",
    "        'templates': [os.path.join(qpcr_dir, i) for i in low_input_template]}\n",
    "\n",
    "mid_input = {'data': [os.path.join(qpcr_dir, i) for i in mid_input_data], \n",
    "        'templates': [os.path.join(qpcr_dir, i) for i in mid_input_template]}\n",
    "\n",
    "hi_input = {'data': [os.path.join(qpcr_dir, i) for i in hi_input_data], \n",
    "        'templates': [os.path.join(qpcr_dir, i) for i in hi_input_template]}"
   ]
  },
  {
   "cell_type": "code",
   "execution_count": 5,
   "metadata": {},
   "outputs": [],
   "source": [
    "def analyze_plate_w_reps(data_file, template_file, ctrl_primer):\n",
    "    #In this case, the replicates are specified in the sample and not by the position in the plate list\n",
    "    df = analyze_qpcr_plate.main(data_file, template_file, ctrl_primer)\n",
    "    df['rep'] = df.index.get_level_values('sample').map(lambda x: int(x.split('_')[-1].split('r')[-1]))\n",
    "\n",
    "    #get the sample name with no replicate annotation\n",
    "    df['sample_base'] = df.index.get_level_values('sample').map(lambda x: '_'.join(x.split('_')[0:-1]))\n",
    "    df['percent_remaining'] = df['fold_change']*100\n",
    "    return df"
   ]
  },
  {
   "cell_type": "code",
   "execution_count": 6,
   "metadata": {},
   "outputs": [
    {
     "data": {
      "image/png": "[encoded data removed]",
      "text/plain": [
       "<Figure size 119.055x119.055 with 1 Axes>"
      ]
     },
     "metadata": {
      "needs_background": "light"
     },
     "output_type": "display_data"
    }
   ],
   "source": [
    "#3A low input, 10 ul hyb reaction\n",
    "#https://stackoverflow.com/questions/5735208/remove-the-legend-on-a-matplotlib-figure\n",
    "panel_name = '3A'\n",
    "plot = Plotter(corners = [0.24, 0.24, 0.71, 0.71], figsize = (sfig, sfig))\n",
    "plot.nudge_corners(left = True, right = True)\n",
    "plot.setup_axis()\n",
    "low_df = analyze_plate_w_reps(low_input['data'][0], low_input['templates'][0], 'act5c')\n",
    "plot.ax = sns.barplot(x=\"sample_base\", y=\"percent_remaining\", hue=\"primer\", data = low_df.reset_index(), \n",
    "                      ci = 'sd', ax = plot.ax)\n",
    "plot.set_ylabel('% target remaining')\n",
    "plot.set_xlabel('amount of input RNA')\n",
    "plot.add_letter('A')\n",
    "plot.ax.set_xticklabels(['0.5 ng', '100 ng'])\n",
    "plot.ax.set_ylim(0, 5.5)\n",
    "leg = plot.ax.get_legend().set_visible(False)\n",
    "plot.ax.text(0.5, 0.99, 'low-input reaction', ha = 'center', transform = plot.ax.transAxes, fontsize = label_fontsize)\n",
    "plot.ax.yaxis.set_major_locator(loc)\n",
    "#seaborn is not respecting rcparams for linewidth, so change it here:\n",
    "lines = plot.ax.lines\n",
    "for line in lines:\n",
    "    line.set_linewidth(0.75)\n",
    "    line.set_color('k')\n",
    "plt.savefig(os.path.join(outdir, '{}.png'.format(panel_name)), dpi = 600)"
   ]
  },
  {
   "cell_type": "code",
   "execution_count": 7,
   "metadata": {},
   "outputs": [],
   "source": [
    "#Combine the data from the mid-range and high-range experiments that were used with the standard protocol\n",
    "mid_df = analyze_plate_w_reps(mid_input['data'][0], mid_input['templates'][0], 'act5c')\n",
    "hi_df1 = analyze_plate_w_reps(hi_input['data'][0], hi_input['templates'][0], 'Act5c')\n",
    "hi_df2 = analyze_plate_w_reps(hi_input['data'][1], hi_input['templates'][1], 'Act5c')\n",
    "standard_df = pd.concat([mid_df, hi_df1, hi_df2])\n",
    "standard_df = standard_df[standard_df['sample_base'] != 'PD_100ng'].copy()\n",
    "standard_df = standard_df.loc[pd.IndexSlice[['18S', '28L', '28R'], :, :],].copy()"
   ]
  },
  {
   "cell_type": "code",
   "execution_count": 8,
   "metadata": {},
   "outputs": [
    {
     "data": {
      "image/png": "[encoded data removed]",
      "text/plain": [
       "<Figure size 119.055x119.055 with 1 Axes>"
      ]
     },
     "metadata": {
      "needs_background": "light"
     },
     "output_type": "display_data"
    }
   ],
   "source": [
    "#3B, standard input 40 or 50 ul reaction\n",
    "panel_name = '3B'\n",
    "plot = Plotter(corners = [0.24, 0.24, 0.71, 0.71], figsize = (sfig, sfig))\n",
    "plot.nudge_corners(left = True, right = True)\n",
    "plot.setup_axis()\n",
    "plot.ax = sns.barplot(x=\"sample_base\", y=\"percent_remaining\", hue=\"primer\", data = standard_df.reset_index(), \n",
    "                      ci = 'sd', ax = plot.ax)\n",
    "plot.set_ylabel('% target remaining')\n",
    "plot.set_xlabel('amount of input RNA')\n",
    "plot.add_letter('B')\n",
    "plot.ax.set_xticklabels([r'1 $\\mu$g', r'5 $\\mu$g'])\n",
    "plot.ax.set_ylim(0, 5.5)\n",
    "plot.ax.text(0.5, 0.99, 'standard reaction', ha = 'center', transform = plot.ax.transAxes, fontsize = label_fontsize)\n",
    "plot.ax.yaxis.set_major_locator(loc)\n",
    "plt.legend(loc = 'best', ncol = 1, fontsize = label_fontsize)\n",
    "#seaborn is not respecting rcparams for linewidth, so change it here:\n",
    "lines = plot.ax.lines\n",
    "for line in lines:\n",
    "    line.set_linewidth(0.75)\n",
    "    line.set_color('k')\n",
    "plt.savefig(os.path.join(outdir, '{}.png'.format(panel_name)), dpi = 600)"
   ]
  },
  {
   "cell_type": "code",
   "execution_count": 9,
   "metadata": {},
   "outputs": [
    {
     "data": {
      "text/plain": [
       "sample_base  primer\n",
       "PD_0.5ng     18S       2.067452\n",
       "             28L       1.597553\n",
       "             28R       1.932985\n",
       "PD_100ng     18S       2.706467\n",
       "             28L       4.080252\n",
       "             28R       2.488393\n",
       "Name: percent_remaining, dtype: float64"
      ]
     },
     "execution_count": 9,
     "metadata": {},
     "output_type": "execute_result"
    }
   ],
   "source": [
    "#Report the depletion values for the low-input protocol\n",
    "low_df.groupby(['sample_base', 'primer'])['percent_remaining'].mean()"
   ]
  },
  {
   "cell_type": "code",
   "execution_count": 10,
   "metadata": {},
   "outputs": [
    {
     "data": {
      "text/plain": [
       "sample_base  primer\n",
       "PD_1ug       18S       1.407902\n",
       "             28L       1.955633\n",
       "             28R       0.180138\n",
       "PD_5ug       18S       0.669514\n",
       "             28L       0.247320\n",
       "             28R       0.140421\n",
       "Name: percent_remaining, dtype: float64"
      ]
     },
     "execution_count": 10,
     "metadata": {},
     "output_type": "execute_result"
    }
   ],
   "source": [
    "#Report the depletion values for the standard input protocol\n",
    "standard_df.groupby(['sample_base', 'primer'])['percent_remaining'].mean()"
   ]
  }
 ],
 "metadata": {
  "kernelspec": {
   "display_name": "Python 3",
   "language": "python",
   "name": "python3"
  },
  "language_info": {
   "codemirror_mode": {
    "name": "ipython",
    "version": 3
   },
   "file_extension": ".py",
   "mimetype": "text/x-python",
   "name": "python",
   "nbconvert_exporter": "python",
   "pygments_lexer": "ipython3",
   "version": "3.7.6"
  }
 },
 "nbformat": 4,
 "nbformat_minor": 4
}
