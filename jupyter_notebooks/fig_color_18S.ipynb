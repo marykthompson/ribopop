{
 "cells": [
  {
   "cell_type": "markdown",
   "metadata": {},
   "source": [
    "### Fig color 18S (Fig 2)\n",
    "- Read in the structural positions of the probe target sites and write a file for Ribovision in order to make Fig. 2"
   ]
  },
  {
   "cell_type": "code",
   "execution_count": 1,
   "metadata": {},
   "outputs": [],
   "source": [
    "#Imports\n",
    "import sys\n",
    "import pandas as pd\n",
    "import matplotlib.pyplot as plt\n",
    "import os\n",
    "import gffutils\n",
    "import seaborn as sns\n",
    "import numpy as np\n",
    "import scipy.stats\n",
    "\n",
    "sys.path.append('../scripts/')\n",
    "from plot_helpers import *\n",
    "\n",
    "%matplotlib inline\n",
    "%load_ext autoreload\n",
    "%autoreload 2"
   ]
  },
  {
   "cell_type": "code",
   "execution_count": 2,
   "metadata": {},
   "outputs": [],
   "source": [
    "#Make outdir and load the data\n",
    "outdir = '../figures/F2/'\n",
    "os.makedirs(outdir, exist_ok = True)"
   ]
  },
  {
   "cell_type": "code",
   "execution_count": 3,
   "metadata": {},
   "outputs": [],
   "source": [
    "#Assign colors to the structure based on no probe, one probe, overlapping probes\n",
    "len_target = 1995\n",
    "target_vals = np.array([0]*len_target)\n",
    "\n",
    "data_file = '../figures/F1/TableS1_18S_candidate_properties.csv'\n",
    "data_df = pd.read_csv(data_file, index_col = 'probe_num')\n",
    "short_probe_df = data_df.loc[1:30].copy()\n",
    "short_probe_df['py_struc_start'] = short_probe_df['structure_start'] - 1\n",
    "short_probe_df.sort_values('structure_start', inplace = True)\n",
    "\n",
    "#Try the one ahead and the one behind together\n",
    "l = short_probe_df[['py_struc_start', 'structure_end']].values\n",
    "probe_vals = [range(*i) for i in l]\n",
    "\n",
    "#Give even probes score of 1 and even probes a score of 10. \n",
    "#Overlapping regions will therefore have a score of 11.\n",
    "for p in range(0, len(probe_vals)):\n",
    "    if p%2 == 0:\n",
    "        target_vals[probe_vals[p]] += 1\n",
    "    else:\n",
    "        target_vals[probe_vals[p]] += 10"
   ]
  },
  {
   "cell_type": "code",
   "execution_count": 4,
   "metadata": {},
   "outputs": [],
   "source": [
    "#Map the regions to specified colors and write the ribovision outfile\n",
    "#http://apollo.chemistry.gatech.edu/RiboVision/\n",
    "#http://apollo.chemistry.gatech.edu/RiboVision/Documentation/UserDataTutorial1.html\n",
    "#colors can take hex codes except for the following\n",
    "#\"#000000\" or \"#858585\" \n",
    "#0 - gray\n",
    "#1 - wine\n",
    "#2 - indigo\n",
    "#11 - olive\n",
    "color_dict = {0: color_dict['grey'], 1: color_dict['wine'],\n",
    "              10: color_dict['indigo'], 11: color_dict['olive']}\n",
    "\n",
    "colors = [color_dict[i] for i in target_vals]\n",
    "residues = ['18S:%s' % i for i in range(1, len_target + 1)]\n",
    "df = pd.DataFrame({'ColorCol': colors, 'resNum': residues})\n",
    "df.to_csv(os.path.join(outdir,'ribovision_positions.csv'))"
   ]
  },
  {
   "cell_type": "code",
   "execution_count": null,
   "metadata": {},
   "outputs": [],
   "source": []
  }
 ],
 "metadata": {
  "kernelspec": {
   "display_name": "Python 3",
   "language": "python",
   "name": "python3"
  },
  "language_info": {
   "codemirror_mode": {
    "name": "ipython",
    "version": 3
   },
   "file_extension": ".py",
   "mimetype": "text/x-python",
   "name": "python",
   "nbconvert_exporter": "python",
   "pygments_lexer": "ipython3",
   "version": "3.7.6"
  }
 },
 "nbformat": 4,
 "nbformat_minor": 4
}
