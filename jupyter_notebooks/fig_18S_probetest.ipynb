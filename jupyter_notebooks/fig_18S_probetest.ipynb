{
 "cells": [
  {
   "cell_type": "markdown",
   "metadata": {},
   "source": [
    "### Fig 18S probe test (Fig 1)\n",
    "- 1A: Illustration of the single-probe depletion assay\n",
    "- 1B: fold depletion for the first 20 probes on targeting the 18S\n",
    "- 1C: longer probes vs. shorter probes\n",
    "- 1D: Percent depletion vs. probe Tm"
   ]
  },
  {
   "cell_type": "code",
   "execution_count": 1,
   "metadata": {},
   "outputs": [],
   "source": [
    "#Imports\n",
    "import sys\n",
    "import pandas as pd\n",
    "import matplotlib.pyplot as plt\n",
    "import os\n",
    "import gffutils\n",
    "import seaborn as sns\n",
    "import numpy as np\n",
    "import scipy.stats as stats\n",
    "import matplotlib as mpl\n",
    "\n",
    "sys.path.append('../scripts/')\n",
    "from plot_helpers import *\n",
    "\n",
    "%matplotlib inline\n",
    "%load_ext autoreload\n",
    "%autoreload 2"
   ]
  },
  {
   "cell_type": "code",
   "execution_count": 2,
   "metadata": {},
   "outputs": [],
   "source": [
    "#Load results\n",
    "data_file = '../figures/F1/full_probe_18S_summary.csv'\n",
    "df = pd.read_csv(data_file).sort_values('probe_num').fillna('none')\n",
    "df['percent_remaining'] = df['fold_change']*100"
   ]
  },
  {
   "cell_type": "code",
   "execution_count": 3,
   "metadata": {},
   "outputs": [],
   "source": [
    "#Make outdir and load the data\n",
    "outdir = '../figures/F1/'\n",
    "os.makedirs(outdir, exist_ok = True)"
   ]
  },
  {
   "cell_type": "code",
   "execution_count": 4,
   "metadata": {},
   "outputs": [
    {
     "data": {
      "image/png": "[encoded data removed]",
      "text/plain": [
       "<Figure size 238.11x119.055 with 1 Axes>"
      ]
     },
     "metadata": {
      "needs_background": "light"
     },
     "output_type": "display_data"
    }
   ],
   "source": [
    "#Fig 1B: Single-probe depletion assay\n",
    "panel_name = '1B'\n",
    "plot = Plotter(corners = [0.12, 0.24, 0.855, 0.71], figsize = (sfig*2, sfig))\n",
    "plot.nudge_corners(bottom = True)\n",
    "plot.setup_axis()\n",
    "plot.ax = sns.barplot(x = 'probe_num', y = 'percent_remaining', data = df.loc[df['probe_num'] < 21], \n",
    "                 color = selected_colors[0],\n",
    "                 ax = plot.ax, errwidth = 0.75, ci = 'sd')\n",
    "plt.xticks(rotation = 45)\n",
    "plot.set_ylabel('% 18S remaining')\n",
    "#plot.set_ylabel('fraction 18S remaining', nudge = (0, -.07))\n",
    "plot.set_xlabel('probe #')\n",
    "plot.ax.set_ylim(0, 80)\n",
    "plot.add_letter('B')\n",
    "\n",
    "lines = plot.ax.lines\n",
    "for line in lines:\n",
    "    line.set_linewidth(0.75)\n",
    "    line.set_color('k')\n",
    "\n",
    "plt.savefig(os.path.join(outdir, '{}.{}'.format(panel_name, outfmt)), dpi = 600)"
   ]
  },
  {
   "cell_type": "code",
   "execution_count": 5,
   "metadata": {},
   "outputs": [
    {
     "name": "stdout",
     "output_type": "stream",
     "text": [
      "mean dep 0.3309979898742605\n",
      "fold dep 3.0211663834571323\n"
     ]
    }
   ],
   "source": [
    "#Report mean depletion value\n",
    "mean_df = df.groupby(['probe_num', 'length_category', 'tm_category'])[['fold_change', 'percent_remaining']].mean()\n",
    "mean_depletion_20 = mean_df.loc[1:21, 'fold_change'].mean()\n",
    "fold_depletion_20 = 1/mean_depletion_20\n",
    "print('mean dep', mean_depletion_20)\n",
    "print('fold dep', fold_depletion_20)\n",
    "mean_df.reset_index(inplace = True)"
   ]
  },
  {
   "cell_type": "code",
   "execution_count": 6,
   "metadata": {},
   "outputs": [
    {
     "data": {
      "image/png": "[encoded data removed]",
      "text/plain": [
       "<Figure size 119.055x119.055 with 1 Axes>"
      ]
     },
     "metadata": {
      "needs_background": "light"
     },
     "output_type": "display_data"
    }
   ],
   "source": [
    "#Fig 1C Performance of high vs. low Tm probes on the left side of the 18S\n",
    "panel_name = '1C'\n",
    "#plot = Plotter(corners = [0.24, 0.24, 0.71, 0.71], figsize = (sfig, sfig))\n",
    "plot = Plotter(corners = [0.27, 0.27, 0.68, 0.68], figsize = (sfig, sfig))\n",
    "\n",
    "plot.nudge_corners(top = True, right = True)\n",
    "plot.setup_axis()\n",
    "plot.ax = sns.swarmplot(x = 'tm_category', y = 'percent_remaining', data = mean_df[mean_df['tm_category'].isin(['low Tm', 'high Tm'])],\n",
    "                        ax = plot.ax, s = 4, alpha = 0.8)\n",
    "\n",
    "probe2_av = mean_df[mean_df['probe_num'] == 2]['percent_remaining']\n",
    "probe29_av = mean_df[mean_df['probe_num'] == 29]['percent_remaining']\n",
    "plt.text(0 + 0.07, probe2_av - 0.05, '#2', fontsize= 8, ha = 'left')\n",
    "plt.text(1 + 0.07, probe29_av - 0.05, '#29', fontsize= 8, ha = 'left')\n",
    "plot.set_ylabel('% 18S remaining')\n",
    "plot.ax.set_ylim(20, 70)\n",
    "\n",
    "plot.set_xlabel('')\n",
    "plot.add_letter('C')\n",
    "\n",
    "plt.savefig(os.path.join(outdir, '{}.{}'.format(panel_name, outfmt)), dpi = 600)"
   ]
  },
  {
   "cell_type": "code",
   "execution_count": 7,
   "metadata": {},
   "outputs": [
    {
     "name": "stdout",
     "output_type": "stream",
     "text": [
      "low tm median 2.736790728971098\n",
      "high tm median 3.320056470194191\n"
     ]
    }
   ],
   "source": [
    "print('low tm median', 1/mean_df.loc[mean_df['tm_category'] == 'low Tm', 'fold_change'].median())\n",
    "print('high tm median', 1/mean_df.loc[mean_df['tm_category'] == 'high Tm', 'fold_change'].median())"
   ]
  },
  {
   "cell_type": "code",
   "execution_count": 8,
   "metadata": {},
   "outputs": [
    {
     "name": "stdout",
     "output_type": "stream",
     "text": [
      "tmean 1.632817051052925\n",
      "pmean 0.11897005534633223\n"
     ]
    }
   ],
   "source": [
    "#Calculate the p-value for comparison of low Tm to high Tm probes\n",
    "#Better to test the ddCt values because the fold changes have been exponentiated\n",
    "hi_ddCt_means = df[df['tm_category'] == 'high Tm'].groupby('probe_num')['ddCt'].mean().values\n",
    "low_ddCt_means = df[df['tm_category'] == 'low Tm'].groupby('probe_num')['ddCt'].mean().values\n",
    "#https://docs.scipy.org/doc/scipy-0.15.1/reference/generated/scipy.stats.ttest_ind.html\n",
    "tmean, pmean = stats.ttest_ind(hi_ddCt_means, low_ddCt_means)\n",
    "\n",
    "print('tmean', tmean)\n",
    "print('pmean', pmean)"
   ]
  },
  {
   "cell_type": "code",
   "execution_count": 9,
   "metadata": {},
   "outputs": [
    {
     "name": "stdout",
     "output_type": "stream",
     "text": [
      "tmean 3.18758231747776\n",
      "pmean 0.0053896214795932365\n"
     ]
    }
   ],
   "source": [
    "#What happens if probe 2 and probe 29 are excluded due to being outliers?\n",
    "hi_ddCt_means_no29 = df[(df['tm_category'] == 'high Tm') & (df['sample'] != 'B29')].groupby('probe_num')['ddCt'].mean().values\n",
    "low_ddCt_means_no2 = df[(df['tm_category'] == 'low Tm') & (df['sample'] != 'B2')].groupby('probe_num')['ddCt'].mean().values\n",
    "\n",
    "tmean, pmean = stats.ttest_ind(hi_ddCt_means_no29, low_ddCt_means_no2)\n",
    "\n",
    "print('tmean', tmean)\n",
    "print('pmean', pmean)"
   ]
  },
  {
   "cell_type": "code",
   "execution_count": 10,
   "metadata": {},
   "outputs": [
    {
     "name": "stdout",
     "output_type": "stream",
     "text": [
      "tmean -0.8898496594854463\n",
      "pmean 0.3827600401747878\n"
     ]
    }
   ],
   "source": [
    "#short 30mer vs. longer 50mer probes:\n",
    "#perform on the first 20 probes because this is the point at which it was evaluated\n",
    "short_ddCt_means = df[(df['length_category'] == '~30mer') & (df['probe_num'] < 21)].groupby('probe_num')['ddCt'].mean().values\n",
    "long_ddCt_means = df[df['length_category'] == '~50mer'].groupby('probe_num')['ddCt'].mean().values\n",
    "#https://docs.scipy.org/doc/scipy-0.15.1/reference/generated/scipy.stats.ttest_ind.html\n",
    "tmean, pmean = stats.ttest_ind(short_ddCt_means, long_ddCt_means)\n",
    "\n",
    "print('tmean', tmean)\n",
    "print('pmean', pmean)"
   ]
  },
  {
   "cell_type": "code",
   "execution_count": 11,
   "metadata": {},
   "outputs": [],
   "source": [
    "#load properties of probes\n",
    "prop_file = '../figures/F1/TableS1_18S_candidate_properties.csv'\n",
    "prop_df = pd.read_csv(prop_file)\n",
    "prop_df['mean_percent_remaining'] = prop_df['mean_frac_remaining']*100"
   ]
  },
  {
   "cell_type": "code",
   "execution_count": 12,
   "metadata": {},
   "outputs": [
    {
     "name": "stderr",
     "output_type": "stream",
     "text": [
      "/Users/maryk.thompson/miniconda3/envs/plotting/lib/python3.7/site-packages/ipykernel_launcher.py:23: UserWarning: You have used the `textcoords` kwarg, but not the `xytext` kwarg.  This can lead to surprising results.\n"
     ]
    },
    {
     "name": "stdout",
     "output_type": "stream",
     "text": [
      "0.013698440318377024\n"
     ]
    },
    {
     "data": {
      "image/png": "[encoded data removed]",
      "text/plain": [
       "<Figure size 119.055x119.055 with 1 Axes>"
      ]
     },
     "metadata": {
      "needs_background": "light"
     },
     "output_type": "display_data"
    }
   ],
   "source": [
    "#Fig 1D: Plot efficacy vs. Tm\n",
    "panel_name = '1D'\n",
    "plot = Plotter(corners = [0.27, 0.27, 0.68, 0.68], figsize = (sfig, sfig))\n",
    "plot.nudge_corners(top = True, left = True)\n",
    "plot.setup_axis()\n",
    "\n",
    "to_plot_CDE = ['homodimer_dG', 'hairpin_dG', 'Tm']\n",
    "x_label_dict = {'homodimer_dG': r'homodimer $\\Delta$G', 'hairpin_dG': r'hairpin $\\Delta$G', 'Tm': 'Tm'}\n",
    "s_df = prop_df.loc[prop_df['probe_num'] < 31].copy()\n",
    "plot.ax = sns.regplot(x = 'Tm', y = 'mean_percent_remaining', data = s_df, scatter_kws = {'edgecolors': 'none', 's': 8}, ax = plot.ax)\n",
    "r_value = stats.spearmanr(s_df['Tm'], s_df['mean_percent_remaining'])\n",
    "\n",
    "r_squared = r_value[0]**2\n",
    "p_value = r_value[1]\n",
    "\n",
    "plot.set_ylabel('% 18S remaining')\n",
    "plot.set_xlabel('Tm')\n",
    "plot.ax.set_xlim(60, 83)\n",
    "plot.ax.set_ylim(0, 70)\n",
    "plot.add_letter('D')\n",
    "\n",
    "plot.ax.annotate('r'r'$^2$'' = %1.2f' % r_squared, xy=(0.95, 0.85), annotation_clip=False, xytext=None, \n",
    "            textcoords='axes fraction',fontsize = 8, arrowprops=None, ha = 'right', va = 'top')\n",
    "print(p_value)\n",
    "\n",
    "plt.savefig(os.path.join(outdir, '{}.{}'.format(panel_name, outfmt)), dpi = 600)"
   ]
  },
  {
   "cell_type": "code",
   "execution_count": null,
   "metadata": {},
   "outputs": [],
   "source": []
  }
 ],
 "metadata": {
  "kernelspec": {
   "display_name": "Python 3",
   "language": "python",
   "name": "python3"
  },
  "language_info": {
   "codemirror_mode": {
    "name": "ipython",
    "version": 3
   },
   "file_extension": ".py",
   "mimetype": "text/x-python",
   "name": "python",
   "nbconvert_exporter": "python",
   "pygments_lexer": "ipython3",
   "version": "3.7.6"
  }
 },
 "nbformat": 4,
 "nbformat_minor": 4
}
