{
 "cells": [
  {
   "cell_type": "markdown",
   "metadata": {},
   "source": [
    "### Fig yeast depletion (Fig 6)\n",
    "- 6A: Plot a representation of the probe selection pipeline\n",
    "- 6B: Plot the probe selection process for 25S transcript"
   ]
  },
  {
   "cell_type": "code",
   "execution_count": 1,
   "metadata": {},
   "outputs": [],
   "source": [
    "#Imports\n",
    "import sys\n",
    "import pandas as pd\n",
    "import matplotlib.pyplot as plt\n",
    "import matplotlib\n",
    "import os\n",
    "import gffutils\n",
    "import seaborn as sns\n",
    "import numpy as np\n",
    "import scipy.stats\n",
    "import itertools\n",
    "\n",
    "sys.path.append('../scripts/')\n",
    "from plot_helpers import *\n",
    "\n",
    "%matplotlib inline\n",
    "%load_ext autoreload\n",
    "%autoreload 2"
   ]
  },
  {
   "cell_type": "code",
   "execution_count": 2,
   "metadata": {},
   "outputs": [],
   "source": [
    "#Make outdir and load the data\n",
    "outdir = '../figures/F6/'\n",
    "os.makedirs(outdir, exist_ok = True)"
   ]
  },
  {
   "cell_type": "code",
   "execution_count": 3,
   "metadata": {},
   "outputs": [],
   "source": [
    "#Load data\n",
    "thisdir = os.path.join(results_dir, 'probe_design_results/yeast_200504/probe_design/')\n",
    "df = pd.read_csv(os.path.join(thisdir, '25S/potential_probes_filt.csv'))\n",
    "final_df = pd.read_csv(os.path.join(thisdir, 'all_selected_probes.csv'))\n",
    "final_df = final_df[final_df['target_name'] == '25S'].copy()\n",
    "df['midpt'] = df['target_start'] + df['length']/2\n",
    "df.sort_values(by = 'midpt', ascending = True, inplace = True)"
   ]
  },
  {
   "cell_type": "code",
   "execution_count": 4,
   "metadata": {},
   "outputs": [],
   "source": [
    "#choose the highest Tm probe at each start site:\n",
    "idx = df.groupby(['start'])['Tm'].transform(max) == df['Tm']\n",
    "df = df[idx].copy()\n",
    "start_range = np.arange(df['midpt'].min() - 1, df['midpt'].max()+ 2, 0.5)\n",
    "range_df = pd.DataFrame(start_range, columns = ['midpt'])\n",
    "new_df = pd.merge(range_df[['midpt']], df[['unique_id', 'Tm', 'midpt']], 'outer', on = 'midpt')"
   ]
  },
  {
   "cell_type": "code",
   "execution_count": 5,
   "metadata": {},
   "outputs": [
    {
     "data": {
      "image/png": "[encoded data removed]",
      "text/plain": [
       "<Figure size 154.772x119.055 with 1 Axes>"
      ]
     },
     "metadata": {
      "needs_background": "light"
     },
     "output_type": "display_data"
    }
   ],
   "source": [
    "#6B: Plot the selected probes for the 25S/28S in Scer/Spom\n",
    "panel_name = '6B'\n",
    "plot = Plotter(corners = [0.21, 0.27, 0.74, 0.60], figsize = (sfig*1.3, sfig))\n",
    "plot.nudge_corners(top = True, right = True)\n",
    "plot.setup_axis()\n",
    "\n",
    "df['midpt'] = df['target_start'] + df['length']/2\n",
    "df.sort_values(by = 'midpt', ascending = True, inplace = True)\n",
    "\n",
    "bg = plot.ax.scatter(new_df['midpt'], new_df['Tm'], color = selected_colors[0], alpha = 0.5, s = 10, edgecolors = 'none')\n",
    "mini_df = new_df[new_df['unique_id'].isin(final_df['unique_id'].values)].copy()\n",
    "selected = plot.ax.scatter(mini_df['midpt'], mini_df['Tm'], color = selected_colors[3], s = 10, edgecolors = 'none')\n",
    "\n",
    "plot.ax.legend([bg, selected], ['considered', 'selected'], \n",
    "               mode = 'expand', fontsize = 8, ncol = 3, bbox_to_anchor=(0., 1.02, 1., .102), loc=3, \n",
    "               borderaxespad=0., handletextpad = -0.2)\n",
    "\n",
    "\n",
    "plot.set_ylabel('Tm')\n",
    "plot.set_xlabel('position in 25S / 28S (nt)')\n",
    "plot.add_letter('B')\n",
    "plt.savefig(os.path.join(outdir, '{}.png'.format(panel_name)), dpi = 600)"
   ]
  }
 ],
 "metadata": {
  "kernelspec": {
   "display_name": "Python 3",
   "language": "python",
   "name": "python3"
  },
  "language_info": {
   "codemirror_mode": {
    "name": "ipython",
    "version": 3
   },
   "file_extension": ".py",
   "mimetype": "text/x-python",
   "name": "python",
   "nbconvert_exporter": "python",
   "pygments_lexer": "ipython3",
   "version": "3.7.6"
  }
 },
 "nbformat": 4,
 "nbformat_minor": 4
}
