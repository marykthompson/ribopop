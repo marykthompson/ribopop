{
 "cells": [
  {
   "cell_type": "markdown",
   "metadata": {},
   "source": [
    "### Fig yeast depletion (Fig 6)\n",
    "- 6A: Plot a representation of the probe selection pipeline\n",
    "- 6B: Plot the probe selection process for 25S transcript\n",
    "- 6C: Plot the qPCR test of the yeast probes"
   ]
  },
  {
   "cell_type": "code",
   "execution_count": 1,
   "metadata": {},
   "outputs": [],
   "source": [
    "#Imports\n",
    "import sys\n",
    "import pandas as pd\n",
    "import matplotlib.pyplot as plt\n",
    "import matplotlib\n",
    "import matplotlib.ticker as plticker\n",
    "loc = plticker.MultipleLocator(base=1.0)\n",
    "import os\n",
    "import gffutils\n",
    "import seaborn as sns\n",
    "import numpy as np\n",
    "import scipy.stats\n",
    "import itertools\n",
    "\n",
    "sys.path.append('../scripts/')\n",
    "from plot_helpers import *\n",
    "import analyze_qpcr_plate\n",
    "\n",
    "%matplotlib inline\n",
    "%load_ext autoreload\n",
    "%autoreload 2"
   ]
  },
  {
   "cell_type": "code",
   "execution_count": 2,
   "metadata": {},
   "outputs": [],
   "source": [
    "#Make outdir and load the data\n",
    "outdir = '../figures/F6/'\n",
    "os.makedirs(outdir, exist_ok = True)"
   ]
  },
  {
   "cell_type": "code",
   "execution_count": 3,
   "metadata": {},
   "outputs": [],
   "source": [
    "#Load data\n",
    "thisdir = os.path.join(results_dir, 'probe_design_results/yeast_200729/probe_design/')\n",
    "df = pd.read_csv(os.path.join(thisdir, '25S/potential_probes_filt.csv'))\n",
    "final_df = pd.read_csv(os.path.join(thisdir, 'all_selected_probes.csv'))\n",
    "final_df = final_df[final_df['target_name'] == '25S'].copy()\n",
    "df['midpt'] = df['target_start'] + df['length']/2\n",
    "df.sort_values(by = 'midpt', ascending = True, inplace = True)"
   ]
  },
  {
   "cell_type": "code",
   "execution_count": 4,
   "metadata": {},
   "outputs": [],
   "source": [
    "#choose the highest Tm probe at each start site:\n",
    "idx = df.groupby(['start'])['Tm'].transform(max) == df['Tm']\n",
    "df = df[idx].copy()\n",
    "start_range = np.arange(df['midpt'].min() - 1, df['midpt'].max()+ 2, 0.5)\n",
    "range_df = pd.DataFrame(start_range, columns = ['midpt'])\n",
    "new_df = pd.merge(range_df[['midpt']], df[['unique_id', 'Tm', 'midpt']], 'outer', on = 'midpt')"
   ]
  },
  {
   "cell_type": "code",
   "execution_count": 5,
   "metadata": {},
   "outputs": [
    {
     "data": {
      "image/png": "[encoded data removed]",
      "text/plain": [
       "<Figure size 154.772x119.055 with 1 Axes>"
      ]
     },
     "metadata": {
      "needs_background": "light"
     },
     "output_type": "display_data"
    }
   ],
   "source": [
    "#6B: Plot the selected probes for the 25S/28S in Scer/Spom\n",
    "panel_name = '6B'\n",
    "plot = Plotter(corners = [0.21, 0.27, 0.74, 0.60], figsize = (sfig*1.3, sfig))\n",
    "plot.nudge_corners(top = True, right = True)\n",
    "plot.setup_axis()\n",
    "\n",
    "df['midpt'] = df['target_start'] + df['length']/2\n",
    "df.sort_values(by = 'midpt', ascending = True, inplace = True)\n",
    "\n",
    "bg = plot.ax.scatter(new_df['midpt'], new_df['Tm'], color = selected_colors[0], alpha = 0.5, s = 10, edgecolors = 'none')\n",
    "mini_df = new_df[new_df['unique_id'].isin(final_df['unique_id'].values)].copy()\n",
    "selected = plot.ax.scatter(mini_df['midpt'], mini_df['Tm'], color = selected_colors[3], s = 10, edgecolors = 'none')\n",
    "\n",
    "plot.ax.legend([bg, selected], ['considered', 'selected'], \n",
    "               mode = 'expand', fontsize = 8, ncol = 3, bbox_to_anchor=(0., 1.02, 1., .102), loc=3, \n",
    "               borderaxespad=0., handletextpad = -0.2)\n",
    "\n",
    "\n",
    "plot.set_ylabel('Tm')\n",
    "plot.set_xlabel('position in 25S / 28S (nt)')\n",
    "plot.add_letter('B')\n",
    "plt.savefig(os.path.join(outdir, '{}.{}'.format(panel_name, outfmt)), dpi = 600)"
   ]
  },
  {
   "cell_type": "code",
   "execution_count": 6,
   "metadata": {},
   "outputs": [],
   "source": [
    "#6C: Plot the qPCR test for the yeast probes\n",
    "qpcr_dir = os.path.join(results_dir, 'qPCR_data')\n",
    "\n",
    "yeast_data = ['200723_yeast_repeat/20200723_141719_CT003077__QPCRBIOSMALQuantificationPlateViewResults.xlsx']\n",
    "yeast_template = ['200723_yeast_repeat/qPCR_analysis_template_yeast_repeat.xlsx']\n",
    "\n",
    "exps = {'data': [os.path.join(qpcr_dir, i) for i in yeast_data],\n",
    "       'templates': [os.path.join(qpcr_dir, i) for i in yeast_template]}\n",
    "\n",
    "df_list = []\n",
    "for i in range(0, len(exps['data'])):\n",
    "    df_list.append(analyze_qpcr_plate.main(exps['data'][i], exps['templates'][i], 'scerAct1'))\n",
    "df = pd.concat(df_list)\n",
    "\n",
    "these_samples = ['y100ng_r1', 'y100ng_r2', 'y100ng_r3']\n",
    "sum_df = df.loc[pd.IndexSlice[['scer18S', 'scer25_2'],:, these_samples],].droplevel('denominator').copy()\n",
    "sum_df['input'], sum_df['rep'] = zip(*sum_df.index.get_level_values('sample').map(lambda x: x.rsplit('_', 1)))\n",
    "sum_df['percent_remaining'] = sum_df['fold_change']*100\n",
    "sum_df['primer_name'] = sum_df.index.get_level_values('primer').map({'scer18S':'18S', 'scer25_2': '25S'})"
   ]
  },
  {
   "cell_type": "code",
   "execution_count": 7,
   "metadata": {},
   "outputs": [
    {
     "data": {
      "image/png": "[encoded data removed]",
      "text/plain": [
       "<Figure size 83.3386x119.055 with 1 Axes>"
      ]
     },
     "metadata": {
      "needs_background": "light"
     },
     "output_type": "display_data"
    }
   ],
   "source": [
    "#Fig 3: plot the percent remaining at different input levels:\n",
    "#https://stackoverflow.com/questions/5735208/remove-the-legend-on-a-matplotlib-figure\n",
    "panel_name = '6C'\n",
    "loc = plticker.MultipleLocator(base=1.0)\n",
    "##plot = Plotter(corners = [0.24, 0.24, 0.35, 0.71], figsize = (sfig*0.7, sfig))\n",
    "plot = Plotter(corners = [0.3, 0.27, 0.4, 0.71], figsize = (sfig*0.7, sfig))\n",
    "plot.nudge_corners(top = True, right = True)\n",
    "#plot.nudge_corners(left = True, right = True)\n",
    "plot.setup_axis()\n",
    "plot.ax = sns.barplot(x=\"input\", y=\"percent_remaining\", hue=\"primer_name\", data = sum_df.reset_index(), \n",
    "                      ci = 'sd', ax = plot.ax, palette = [selected_colors[0], selected_colors[3]])\n",
    "plot.set_ylabel('% target remaining', nudge = (0, -0.03))\n",
    "plot.set_xlabel('')\n",
    "plot.add_letter('C')\n",
    "plot.ax.set_xticklabels(['100 ng 'r'$S. cer$'' RNA'])\n",
    "plot.ax.set_ylim(0, 1.2)\n",
    "#plt.legend(loc = 'best', ncol = 1, fontsize = label_fontsize)\n",
    "plt.legend(bbox_to_anchor = (1.85, 1.05), ncol = 1, fontsize = label_fontsize)\n",
    "\n",
    "#leg = plot.ax.get_legend().set_visible(False)\n",
    "plot.ax.yaxis.set_major_locator(loc)\n",
    "#seaborn is not respecting rcparams for linewidth, so change it here:\n",
    "lines = plot.ax.lines\n",
    "for line in lines:\n",
    "    line.set_linewidth(0.75)\n",
    "    line.set_color('k')\n",
    "plt.savefig(os.path.join(outdir, '{}.{}'.format(panel_name, outfmt)), dpi = 600)"
   ]
  },
  {
   "cell_type": "code",
   "execution_count": 8,
   "metadata": {},
   "outputs": [
    {
     "data": {
      "text/html": [
       "<div>\n",
       "<style scoped>\n",
       "    .dataframe tbody tr th:only-of-type {\n",
       "        vertical-align: middle;\n",
       "    }\n",
       "\n",
       "    .dataframe tbody tr th {\n",
       "        vertical-align: top;\n",
       "    }\n",
       "\n",
       "    .dataframe thead th {\n",
       "        text-align: right;\n",
       "    }\n",
       "</style>\n",
       "<table border=\"1\" class=\"dataframe\">\n",
       "  <thead>\n",
       "    <tr style=\"text-align: right;\">\n",
       "      <th></th>\n",
       "      <th></th>\n",
       "      <th>ddCt</th>\n",
       "      <th>fold_change</th>\n",
       "      <th>input</th>\n",
       "      <th>rep</th>\n",
       "      <th>percent_remaining</th>\n",
       "      <th>primer_name</th>\n",
       "    </tr>\n",
       "    <tr>\n",
       "      <th>primer</th>\n",
       "      <th>sample</th>\n",
       "      <th></th>\n",
       "      <th></th>\n",
       "      <th></th>\n",
       "      <th></th>\n",
       "      <th></th>\n",
       "      <th></th>\n",
       "    </tr>\n",
       "  </thead>\n",
       "  <tbody>\n",
       "    <tr>\n",
       "      <th rowspan=\"3\" valign=\"top\">scer18S</th>\n",
       "      <th>y100ng_r1</th>\n",
       "      <td>7.303668</td>\n",
       "      <td>0.006330</td>\n",
       "      <td>y100ng</td>\n",
       "      <td>r1</td>\n",
       "      <td>0.632961</td>\n",
       "      <td>18S</td>\n",
       "    </tr>\n",
       "    <tr>\n",
       "      <th>y100ng_r2</th>\n",
       "      <td>7.461147</td>\n",
       "      <td>0.005675</td>\n",
       "      <td>y100ng</td>\n",
       "      <td>r2</td>\n",
       "      <td>0.567507</td>\n",
       "      <td>18S</td>\n",
       "    </tr>\n",
       "    <tr>\n",
       "      <th>y100ng_r3</th>\n",
       "      <td>6.686767</td>\n",
       "      <td>0.009707</td>\n",
       "      <td>y100ng</td>\n",
       "      <td>r3</td>\n",
       "      <td>0.970695</td>\n",
       "      <td>18S</td>\n",
       "    </tr>\n",
       "    <tr>\n",
       "      <th rowspan=\"3\" valign=\"top\">scer25_2</th>\n",
       "      <th>y100ng_r1</th>\n",
       "      <td>7.830380</td>\n",
       "      <td>0.004394</td>\n",
       "      <td>y100ng</td>\n",
       "      <td>r1</td>\n",
       "      <td>0.439360</td>\n",
       "      <td>25S</td>\n",
       "    </tr>\n",
       "    <tr>\n",
       "      <th>y100ng_r2</th>\n",
       "      <td>7.373095</td>\n",
       "      <td>0.006032</td>\n",
       "      <td>y100ng</td>\n",
       "      <td>r2</td>\n",
       "      <td>0.603222</td>\n",
       "      <td>25S</td>\n",
       "    </tr>\n",
       "    <tr>\n",
       "      <th>y100ng_r3</th>\n",
       "      <td>7.138351</td>\n",
       "      <td>0.007098</td>\n",
       "      <td>y100ng</td>\n",
       "      <td>r3</td>\n",
       "      <td>0.709810</td>\n",
       "      <td>25S</td>\n",
       "    </tr>\n",
       "  </tbody>\n",
       "</table>\n",
       "</div>"
      ],
      "text/plain": [
       "                        ddCt  fold_change   input rep  percent_remaining  \\\n",
       "primer   sample                                                            \n",
       "scer18S  y100ng_r1  7.303668     0.006330  y100ng  r1           0.632961   \n",
       "         y100ng_r2  7.461147     0.005675  y100ng  r2           0.567507   \n",
       "         y100ng_r3  6.686767     0.009707  y100ng  r3           0.970695   \n",
       "scer25_2 y100ng_r1  7.830380     0.004394  y100ng  r1           0.439360   \n",
       "         y100ng_r2  7.373095     0.006032  y100ng  r2           0.603222   \n",
       "         y100ng_r3  7.138351     0.007098  y100ng  r3           0.709810   \n",
       "\n",
       "                   primer_name  \n",
       "primer   sample                 \n",
       "scer18S  y100ng_r1         18S  \n",
       "         y100ng_r2         18S  \n",
       "         y100ng_r3         18S  \n",
       "scer25_2 y100ng_r1         25S  \n",
       "         y100ng_r2         25S  \n",
       "         y100ng_r3         25S  "
      ]
     },
     "execution_count": 8,
     "metadata": {},
     "output_type": "execute_result"
    }
   ],
   "source": [
    "sum_df"
   ]
  },
  {
   "cell_type": "code",
   "execution_count": null,
   "metadata": {},
   "outputs": [],
   "source": []
  }
 ],
 "metadata": {
  "kernelspec": {
   "display_name": "Python 3",
   "language": "python",
   "name": "python3"
  },
  "language_info": {
   "codemirror_mode": {
    "name": "ipython",
    "version": 3
   },
   "file_extension": ".py",
   "mimetype": "text/x-python",
   "name": "python",
   "nbconvert_exporter": "python",
   "pygments_lexer": "ipython3",
   "version": "3.7.6"
  }
 },
 "nbformat": 4,
 "nbformat_minor": 4
}
