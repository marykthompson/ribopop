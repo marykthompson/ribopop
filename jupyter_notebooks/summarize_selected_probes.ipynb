{
 "cells": [
  {
   "cell_type": "markdown",
   "metadata": {},
   "source": [
    "### Summarize selected probes ###\n",
    "- Get the probes selected in Dmel and add properties from current version of the probe designer\n",
    "- Also output a fasta file to use for blasting against the Dmel transcriptome"
   ]
  },
  {
   "cell_type": "code",
   "execution_count": 5,
   "metadata": {},
   "outputs": [
    {
     "name": "stdout",
     "output_type": "stream",
     "text": [
      "The autoreload extension is already loaded. To reload it, use:\n",
      "  %reload_ext autoreload\n"
     ]
    }
   ],
   "source": [
    "#Imports\n",
    "import sys\n",
    "import pandas as pd\n",
    "import os\n",
    "import primer3\n",
    "from Bio.SeqUtils import MeltingTemp as mt\n",
    "import primer3\n",
    "from Bio.Seq import Seq\n",
    "\n",
    "sys.path.append('../scripts/')\n",
    "from plot_helpers import *\n",
    "sys.path.append(os.path.join(probe_designer_dir, 'scripts'))\n",
    "import screen_kmers\n",
    "import choose_probes\n",
    "\n",
    "%matplotlib inline\n",
    "%load_ext autoreload\n",
    "%autoreload 2"
   ]
  },
  {
   "cell_type": "code",
   "execution_count": 6,
   "metadata": {},
   "outputs": [],
   "source": [
    "outdir = '../figures/F1/'\n",
    "os.makedirs(outdir, exist_ok = True)"
   ]
  },
  {
   "cell_type": "code",
   "execution_count": 7,
   "metadata": {},
   "outputs": [],
   "source": [
    "#Get the probe sequences, and add to the df\n",
    "qpcr_dir = os.path.join(results_dir, 'qPCR_data')\n",
    "probe_seqs = os.path.join(qpcr_dir, 'probe_seqs.csv')\n",
    "seq_df = pd.read_csv(probe_seqs, index_col = 'probe_name')\n",
    "#Now get the properties for the probes selected for Drosophila\n",
    "#chosen probes, these are the ones that were included in the Ribo-Pop mix for sequencing\n",
    "chosen_probes_18S = [12, 18, 21, 24, 28]\n",
    "chosen_probes_28S = [36, 37, 38, 39, 40, 41, 42, 43, 44, 45]\n",
    "chosen_18S = seq_df.loc[seq_df['probe_num'].isin(chosen_probes_18S), ['sequence']].copy()\n",
    "chosen_28S = seq_df.loc[seq_df['probe_num'].isin(chosen_probes_28S), ['sequence']].copy()\n",
    "chosen_18S['target_name'] = '18S'\n",
    "chosen_28S['target_name'] = '28S'\n",
    "chosen_df = pd.concat([chosen_18S, chosen_28S])\n",
    "chosen_df.reset_index(drop = True, inplace = True)\n",
    "chosen_df['probe_num'] = chosen_df.index + 1\n",
    "chosen_df['length'] = chosen_df['sequence'].apply(lambda x: len(x))\n",
    "chosen_df['unique_id'] = chosen_df.apply(lambda x: '%s_%s' % (x['target_name'], x['probe_num']), axis = 1)\n",
    "chosen_df.set_index('unique_id', drop = False, inplace = True)"
   ]
  },
  {
   "cell_type": "code",
   "execution_count": 8,
   "metadata": {},
   "outputs": [],
   "source": [
    "#Get the values calculated from the probe design pipeline and add\n",
    "dmel_18S = os.path.join(results_dir, 'probe_design_results/dmel_200504/probe_design/18S/potential_probes_filt.csv')\n",
    "dmel_28S = os.path.join(results_dir, 'probe_design_results/dmel_200504/probe_design/28S/potential_probes_filt.csv')\n",
    "dmel_18S_df = pd.read_csv(dmel_18S)\n",
    "dmel_28S_df = pd.read_csv(dmel_28S)\n",
    "allfilt_df = pd.concat([dmel_18S_df, dmel_28S_df])\n",
    "\n",
    "cols2write = ['Tm','sequence', 'target_start', 'target_end','passed_excluded', 'hairpin_dG', 'homodimer_dG', 'passed_structure', \n",
    "              'GC_content', 'A_content', 'C_content', 'GC_content_rule', 'A_composition_rule', 'C_composition_rule', \n",
    "              '4xA_stack_rule', '4xC_stack_rule', 'earlyCs_rule', 'any5_rule', 'rolling_Tm_quantile_co']\n",
    "\n",
    "\n",
    "col_order = ['probe_num', 'sequence', 'target_name', 'target_start', 'target_end', 'length', 'unique_id', 'Tm', 'GC_content', 'A_content', \n",
    "'C_content', 'rolling_Tm_quantile_co', 'hairpin_dG', 'homodimer_dG', 'dimer_dG', 'dimer_partner', 'GC_content_rule', \n",
    "'A_composition_rule', 'C_composition_rule', '4xA_stack_rule', '4xC_stack_rule', 'earlyCs_rule', 'any5_rule']\n",
    "\n",
    "annotated_df = pd.merge(chosen_df, allfilt_df[cols2write], left_on = 'sequence', right_on = 'sequence', how = 'left')\n",
    "annotated_df.set_index('unique_id', inplace = True)\n",
    "annotated_df[['dimer_dG', 'dimer_partner']] = choose_probes.calc_dimer(annotated_df)\n",
    "annotated_df.reset_index(inplace = True)\n",
    "annotated_df[col_order].round(2).to_csv(os.path.join(outdir, 'Dmel_selected_properties.csv'), index = False)"
   ]
  },
  {
   "cell_type": "code",
   "execution_count": 11,
   "metadata": {},
   "outputs": [],
   "source": [
    "#write fasta file of the probes -- note that we expect matches to align to the negative strand\n",
    "with open(os.path.join(outdir, 'Dmel_probes.fa'), 'w') as g:\n",
    "    for i in annotated_df.itertuples():\n",
    "        g.write('>%s\\n%s\\n' % (i.unique_id, i.sequence))"
   ]
  }
 ],
 "metadata": {
  "kernelspec": {
   "display_name": "Python 3",
   "language": "python",
   "name": "python3"
  },
  "language_info": {
   "codemirror_mode": {
    "name": "ipython",
    "version": 3
   },
   "file_extension": ".py",
   "mimetype": "text/x-python",
   "name": "python",
   "nbconvert_exporter": "python",
   "pygments_lexer": "ipython3",
   "version": "3.7.6"
  }
 },
 "nbformat": 4,
 "nbformat_minor": 4
}
