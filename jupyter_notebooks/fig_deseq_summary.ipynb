{
 "cells": [
  {
   "cell_type": "markdown",
   "metadata": {},
   "source": [
    "### Fig DESeq Summary (Fig. 5 & Fig. S5)\n",
    "- 5A: Scatterplot to show correlation between depleted and input quantseq using CPM from HTSeq quantification.\n",
    "- 5B: MA plot of depleted vs. input quant-seq\n",
    "- 5C: Bar plot for complementarity to the probes for genes going down + depletion vs other genes.   \n",
    "Make associated supplemental fig 5:\n",
    "Used the Stellar aligner to find regions of complementarity between the probes and the rRNAs and other genes\n",
    "- S5A: complementarity length vs. % identity for genes complementary to probes\n",
    "- S5B: complementarity length vs. % identity for genes complementary to rRNAs"
   ]
  },
  {
   "cell_type": "code",
   "execution_count": 1,
   "metadata": {},
   "outputs": [],
   "source": [
    "#Imports\n",
    "import sys\n",
    "import pandas as pd\n",
    "import matplotlib.pyplot as plt\n",
    "import matplotlib\n",
    "import os\n",
    "import gffutils\n",
    "import seaborn as sns\n",
    "import numpy as np\n",
    "import scipy.stats\n",
    "import itertools\n",
    "import matplotlib.ticker as plticker\n",
    "import shutil\n",
    "\n",
    "sys.path.append('../scripts/')\n",
    "from plot_helpers import *\n",
    "\n",
    "%matplotlib inline\n",
    "%load_ext autoreload\n",
    "%autoreload 2\n",
    "\n",
    "db = gffutils.FeatureDB(gffutils_db)"
   ]
  },
  {
   "cell_type": "code",
   "execution_count": 2,
   "metadata": {},
   "outputs": [],
   "source": [
    "outdir = '../figures/F5/'\n",
    "os.makedirs(outdir, exist_ok = True)"
   ]
  },
  {
   "cell_type": "code",
   "execution_count": 3,
   "metadata": {},
   "outputs": [],
   "source": [
    "#Load gene biotypes:\n",
    "biotype_dict = {}\n",
    "for i in db.all_features(featuretype = 'gene'):\n",
    "    this_gene = i.id\n",
    "    try:\n",
    "        biotype = db[this_gene].attributes['gene_biotype'][0]\n",
    "        genename = db[this_gene].attributes['gene_name'][0]\n",
    "        #change biotype to rRNA if rRNA is in the name -- occurs for some pseudogenes\n",
    "        if 'rRNA' in genename:\n",
    "            biotype = 'rRNA'\n",
    "            \n",
    "    except KeyError:\n",
    "        biotype = 'spike-in' #only the spike-ins don't have a biotype\n",
    "        \n",
    "    biotype_dict[this_gene] = biotype"
   ]
  },
  {
   "cell_type": "code",
   "execution_count": 4,
   "metadata": {},
   "outputs": [],
   "source": [
    "#the htseq quantification file\n",
    "htseq_file = os.path.join(results_dir, 'rnaseq_data_200723/gene_quantification/summary_abundance_by_gene_htseq.csv')\n",
    "df = pd.read_csv(htseq_file)\n",
    "\n",
    "#Drop the SIRV, spikein values and the non-gene rows\n",
    "nospike_df = df[~df['gene'].apply(lambda x: (x.startswith('SIRV') or x.startswith('__')))].copy().set_index('gene')\n",
    "\n",
    "#get CPM values\n",
    "nospike_df['CPM'] = nospike_df['counts']*1e6/nospike_df.groupby(['experiment', 'replicate'])['counts'].transform('sum')\n",
    "\n",
    "mean_df = nospike_df.groupby(['gene', 'experiment']).mean()\n",
    "mean_df.reset_index('experiment', inplace = True)"
   ]
  },
  {
   "cell_type": "code",
   "execution_count": 5,
   "metadata": {},
   "outputs": [
    {
     "name": "stdout",
     "output_type": "stream",
     "text": [
      "r2 val from averages 0.935091481025752\n"
     ]
    }
   ],
   "source": [
    "#Get the input and subtracted values, put back together\n",
    "in_df = mean_df.loc[mean_df['experiment'] == 'inputq', 'CPM'].copy()\n",
    "sub_df = mean_df.loc[mean_df['experiment'] == 'subtractedq', 'CPM'].copy()\n",
    "comp_df = pd.merge(in_df, sub_df, left_index = True, right_index = True, suffixes = ('_in', '_sub'))\n",
    "#restrict to genes with mean TPM >= 1\n",
    "filtered_df = comp_df[(comp_df['CPM_in'] >= 1) & (comp_df['CPM_sub'] >= 1)].copy()\n",
    "filtered_df['CPM_in_log10'] = filtered_df['CPM_in'].apply(np.log10)\n",
    "filtered_df['CPM_sub_log10'] = filtered_df['CPM_sub'].apply(np.log10)\n",
    "filtered_df['biotype'] = filtered_df.index.map(biotype_dict)\n",
    "\n",
    "#get data specifically from protein coding and ncRNAs:\n",
    "coding_ncRNA = ['protein_coding', 'ncRNA']\n",
    "filtered_df['coding_ncRNA'] = filtered_df['biotype'].isin(coding_ncRNA)\n",
    "cfilt_df = filtered_df[filtered_df['coding_ncRNA']].copy()\n",
    "\n",
    "rval, pval = scipy.stats.pearsonr(cfilt_df['CPM_in'], cfilt_df['CPM_sub'])\n",
    "r2_val_av = rval**2\n",
    "print('r2 val from averages', r2_val_av)"
   ]
  },
  {
   "cell_type": "code",
   "execution_count": 6,
   "metadata": {},
   "outputs": [
    {
     "name": "stdout",
     "output_type": "stream",
     "text": [
      "rep1\n",
      "0.9435917453761333\n",
      "rep2\n",
      "0.8884779296223968\n",
      "rep3\n",
      "0.9506970994140393\n"
     ]
    }
   ],
   "source": [
    "#Get the r2 values between subtracted and input for each replicate\n",
    "exps = ['inputq', 'subtractedq']\n",
    "reps = ['rep1', 'rep2', 'rep3']\n",
    "#get data specifically from protein coding and ncRNAs:\n",
    "nospike_df['biotype'] = nospike_df.index.map(biotype_dict)\n",
    "nospike_df['coding_ncRNA'] = nospike_df['biotype'].isin(coding_ncRNA)\n",
    "cnc_df = nospike_df[nospike_df['coding_ncRNA']].copy()\n",
    "\n",
    "rep_df = cnc_df.set_index(['experiment', 'replicate'], append = True)\n",
    "\n",
    "#Get r**2 for depleted vs. input samples at each replicate\n",
    "for r in reps:\n",
    "    print(r)\n",
    "    x_df = rep_df.loc[pd.IndexSlice[:, exps[0], r], 'CPM'].reset_index(['experiment', 'replicate'])\n",
    "    y_df = rep_df.loc[pd.IndexSlice[:, exps[1], r], 'CPM'].reset_index(['experiment', 'replicate'])\n",
    "    c_df = pd.merge(x_df, y_df, left_index = True, right_index = True, suffixes = ('_in', '_sub'))\n",
    "    f_df = c_df[(c_df['CPM_in'] >= 1) & (c_df['CPM_sub'] >= 1)].copy()\n",
    "    rval, pval = scipy.stats.pearsonr(f_df['CPM_in'], f_df['CPM_sub'])\n",
    "    r2_val = rval**2\n",
    "    print(r2_val)"
   ]
  },
  {
   "cell_type": "code",
   "execution_count": 7,
   "metadata": {},
   "outputs": [
    {
     "name": "stdout",
     "output_type": "stream",
     "text": [
      "experiment: inputq\n",
      "rep1\trep2\n",
      "0.9612159001240881\n",
      "rep1\trep3\n",
      "0.9501540563680244\n",
      "rep2\trep3\n",
      "0.8643445768888421\n",
      "experiment: subtractedq\n",
      "rep1\trep2\n",
      "0.9811717421669452\n",
      "rep1\trep3\n",
      "0.9354702058719863\n",
      "rep2\trep3\n",
      "0.8940539713313329\n"
     ]
    }
   ],
   "source": [
    "#Get the interreplicate r2 values\n",
    "for e in exps:\n",
    "    print('experiment: %s' % e)\n",
    "    for c in itertools.combinations(reps, 2):\n",
    "        print('%s\\t%s' % (c[0], c[1]))\n",
    "        x_df = rep_df.loc[pd.IndexSlice[:, e, c[0]], 'CPM'].reset_index(['experiment', 'replicate'])\n",
    "        y_df = rep_df.loc[pd.IndexSlice[:, e, c[1]], 'CPM'].reset_index(['experiment', 'replicate'])\n",
    "        c_df = pd.merge(x_df, y_df, left_index = True, right_index = True, suffixes = ('_in', '_sub'))\n",
    "        f_df = c_df[(c_df['CPM_in'] >= 1) & (c_df['CPM_sub'] >= 1)].copy()\n",
    "        rval, pval = scipy.stats.pearsonr(f_df['CPM_in'], f_df['CPM_sub'])\n",
    "        r2_val = rval**2\n",
    "        print(r2_val)"
   ]
  },
  {
   "cell_type": "code",
   "execution_count": 8,
   "metadata": {},
   "outputs": [
    {
     "data": {
      "image/png": "[encoded data removed]",
      "text/plain": [
       "<Figure size 119.055x119.055 with 1 Axes>"
      ]
     },
     "metadata": {
      "needs_background": "light"
     },
     "output_type": "display_data"
    }
   ],
   "source": [
    "#Plot the correlation between input and depleted libraries\n",
    "panel_name = '5A'\n",
    "plot = Plotter(corners = [0.27, 0.27, 0.6, 0.6], figsize = (sfig, sfig))\n",
    "\n",
    "plot.nudge_corners(left = True, right = True)\n",
    "\n",
    "plot.setup_axis()\n",
    "pointsize = 0.5\n",
    "\n",
    "plot.ax.scatter(cfilt_df['CPM_in_log10'], cfilt_df['CPM_sub_log10'], s = pointsize)\n",
    "plot.set_ylabel('depleted RNA level\\n (log'r'$_{10}$'') CPM', nudge = (0.015, 0))\n",
    "plot.set_xlabel('input RNA level\\n (log'r'$_{10}$'') CPM')\n",
    "loc = plticker.MultipleLocator(base=2.0)\n",
    "plot.ax.xaxis.set_major_locator(loc)\n",
    "plot.ax.yaxis.set_major_locator(loc)\n",
    "\n",
    "plot.ax.set_xlim(-0.25, 5)\n",
    "plot.ax.set_xlim(-0.25, 5)\n",
    "plot.ax.text(0.4, 4.2, 'r'r'$^2$'' = %1.2f' % r2_val_av, fontsize = 8)\n",
    "\n",
    "plot.add_letter('A', ha = 'right')\n",
    "plt.savefig(os.path.join(outdir, '{}.{}'.format(panel_name, outfmt)), dpi = 600)"
   ]
  },
  {
   "cell_type": "code",
   "execution_count": 9,
   "metadata": {},
   "outputs": [],
   "source": [
    "#Fig 5B, quantifying probe matches of downregulated genes vs. other genes\n",
    "def get_count_table(df, value, category):\n",
    "    '''\n",
    "    Return a dataframe containing counts of\n",
    "    a specific value. For example length or bitscore.\n",
    "    Create a column labeled category with the name for the bar plot\n",
    "    '''\n",
    "    count_s = df[value].value_counts().to_frame().rename(columns = {value:'counts'})\n",
    "    count_df = pd.DataFrame(count_s)\n",
    "    count_df['percent_counts'] = (count_df['counts']/count_df['counts'].sum())*100\n",
    "    count_df[value] = count_df.index\n",
    "    label = '%s\\n(n = %s)' % (category, count_df['counts'].sum())\n",
    "    count_df['category'] = label\n",
    "    return count_df, label\n",
    "\n",
    "def add_gene(x):\n",
    "    gene = next(db.parents(x, featuretype = 'gene')).id\n",
    "    return gene"
   ]
  },
  {
   "cell_type": "code",
   "execution_count": 10,
   "metadata": {},
   "outputs": [
    {
     "data": {
      "image/png": "[encoded data removed]",
      "text/plain": [
       "<Figure size 119.055x119.055 with 1 Axes>"
      ]
     },
     "metadata": {
      "needs_background": "light"
     },
     "output_type": "display_data"
    }
   ],
   "source": [
    "#Fig 5B, plot the results of the DESeq2 analysis\n",
    "#https://stackoverflow.com/questions/18773662/python-scatter-plot-logarithmic-scale\n",
    "panel_name = '5B'\n",
    "\n",
    "deseq_file = os.path.join(results_dir, 'rnaseq_data_200723/diffexp_htseq/subtractedq-vs-inputq.diffexp.csv')\n",
    "deseq_df = pd.read_csv(deseq_file, index_col = 0)\n",
    "deseq_df['log10_baseMean'] = deseq_df['baseMean'].apply(np.log10)\n",
    "#Assign genes to biotype and examine up and downregulated genes\n",
    "deseq_df['biotype'] = deseq_df.index.map(biotype_dict)\n",
    "\n",
    "padj_threshold = 0.01\n",
    "deseq_df['increased'] = (deseq_df['log2FoldChange'] > 0) & (deseq_df['padj'] < padj_threshold)\n",
    "deseq_df['decreased'] = (deseq_df['log2FoldChange'] < 0) & (deseq_df['padj'] < padj_threshold)\n",
    "\n",
    "#Alternative values if padj cutoff = 0.05\n",
    "padj_threshold2 = 0.05\n",
    "deseq_df['increased_0.05'] = (deseq_df['log2FoldChange'] > 0) & (deseq_df['padj'] < padj_threshold2)\n",
    "deseq_df['decreased_0.05'] = (deseq_df['log2FoldChange'] < 0) & (deseq_df['padj'] < padj_threshold2)\n",
    "\n",
    "#find increased or decreased rRNAs that have non-NA values for the padj\n",
    "uprrnas = deseq_df[(deseq_df['increased']) & (deseq_df['biotype'] == 'rRNA')].index\n",
    "downrrnas = deseq_df[(deseq_df['decreased']) & (deseq_df['biotype'] == 'rRNA')].index\n",
    "changing_rrnas = np.append(uprrnas.values, downrrnas.values)\n",
    "\n",
    "#remove these rRNAs from the df, so that I can plot them with a different symbol\n",
    "ndf = deseq_df.drop(changing_rrnas)\n",
    "\n",
    "#make space for the legend\n",
    "plot = Plotter(corners = [0.32, 0.27, 0.6, 0.6], figsize = (sfig, sfig))\n",
    "\n",
    "plot.nudge_corners(left = True, right = True)\n",
    "plot.setup_axis()\n",
    "\n",
    "pointsize = 0.5\n",
    "bg = plot.ax.scatter('log10_baseMean', 'log2FoldChange', data = ndf, s = pointsize)\n",
    "up = plot.ax.scatter('log10_baseMean', 'log2FoldChange', data = ndf[ndf['increased']],\n",
    "                     s = pointsize, color = color_dict['rose'])\n",
    "\n",
    "down = plot.ax.scatter('log10_baseMean', 'log2FoldChange', data = ndf[ndf['decreased']],\n",
    "                     s = pointsize, color = color_dict['indigo'])\n",
    "\n",
    "plot.ax.axhline(y = 0, color = 'k', linestyle = '--')\n",
    "\n",
    "plot.ax.legend([up, down], ['increased', 'decreased'], ncol = 2, bbox_to_anchor=(-0.41, 1.1, 1.45, .102),\n",
    "               fontsize = 8, borderpad = 0.2, borderaxespad=0., labelspacing = 0, handletextpad = -0.5, mode = 'expand', markerscale = 3)\n",
    "\n",
    "up_rrna = plot.ax.scatter('log10_baseMean', 'log2FoldChange', data = deseq_df.loc[uprrnas],\n",
    "                     s = 5, color = color_dict['rose'], marker = 'x')\n",
    "\n",
    "down_rrna = plot.ax.scatter('log10_baseMean', 'log2FoldChange', data = deseq_df.loc[downrrnas],\n",
    "                     s = 5, color = color_dict['indigo'], marker = 'x')\n",
    "\n",
    "#rRNA genes changing\n",
    "#FBgn0267523 5.8S pseudogene -- up\n",
    "#FBgn0085813 18S pseudogene -- down\n",
    "\n",
    "ytext =  'log'r'$_{2}$' ' fold change\\n(depleted / input)'\n",
    "xtext = 'mean expression\\n(log'r'$_{10}$' ' base mean)'\n",
    "plot.set_xlabel(xtext)\n",
    "plot.set_ylabel(ytext, nudge = (0.015, 0))\n",
    "\n",
    "plot.ax.text(3, 4, 'x = rRNA\\npseudogene', fontsize = 5)\n",
    "\n",
    "#borderpad effects the box size but it is unevenly distributed - left one is still over on right a bit\n",
    "plot.add_letter('B', ha = 'right')\n",
    "plt.savefig(os.path.join(outdir, '{}.{}'.format(panel_name, outfmt)), dpi = 600)"
   ]
  },
  {
   "cell_type": "code",
   "execution_count": 11,
   "metadata": {},
   "outputs": [
    {
     "name": "stdout",
     "output_type": "stream",
     "text": [
      "number non-zero genes 7323\n",
      "number of increased genes 23\n",
      "number of down genes 208\n",
      "number of other/non-down genes 7115\n",
      "median change increased 1.9028127532276042\n",
      "median change decreased 0.46214277889342004\n",
      "median fc decreased 2.1638334421116667\n",
      "percent of non-zero genes decreased 2.8403659702307795\n"
     ]
    }
   ],
   "source": [
    "#Get genes that are both not rRNAs and also have an assigned padj -- this means they must also have met an expression threshold\n",
    "#https://support.bioconductor.org/p/76144/\n",
    "#This explains that the genes with padj NA basically don't have high enough expression to be included.\n",
    "\n",
    "#get 'non-zero' genes (ones quantified well enough to have a non-NA padj)\n",
    "nz_df = deseq_df.dropna(subset = ['padj'])\n",
    "\n",
    "#get non-zero, non-ribo genes\n",
    "non_ribo_df = nz_df[nz_df['biotype'] != 'rRNA'].copy()\n",
    "\n",
    "decreased_genes = non_ribo_df[non_ribo_df['decreased']].index\n",
    "increased_genes = non_ribo_df[non_ribo_df['increased']].index\n",
    "other_genes = non_ribo_df[~non_ribo_df['decreased']].index\n",
    "\n",
    "nonzero_genes = non_ribo_df.index\n",
    "print('number non-zero genes', len(nonzero_genes))\n",
    "print('number of increased genes', len(increased_genes))\n",
    "print('number of down genes', len(decreased_genes))\n",
    "print('number of other/non-down genes', len(other_genes))\n",
    "\n",
    "#write non-zero genes to file to use for the Stellar homology search\n",
    "with open(os.path.join(outdir,'nonzero_genes.csv'), 'w') as f:\n",
    "    for i in nonzero_genes:\n",
    "        f.write(f'{i}\\n')\n",
    "        \n",
    "print('median change increased', 2**non_ribo_df.loc[increased_genes, 'log2FoldChange'].median())\n",
    "change_decreased = 2**non_ribo_df.loc[decreased_genes, 'log2FoldChange'].median()\n",
    "print('median change decreased', change_decreased)\n",
    "print('median fc decreased', 1/change_decreased)\n",
    "\n",
    "print('percent of non-zero genes decreased', len(decreased_genes)*100/len(nonzero_genes))"
   ]
  },
  {
   "cell_type": "code",
   "execution_count": 12,
   "metadata": {},
   "outputs": [
    {
     "name": "stdout",
     "output_type": "stream",
     "text": [
      "number of increased genes 82\n",
      "number of down genes 359\n",
      "median change increased 1.7725287935122847\n",
      "median change decreased 0.5129365645391377\n",
      "median fc decreased 1.9495588131808816\n"
     ]
    }
   ],
   "source": [
    "#Alternative values if padj cutoff = 0.05\n",
    "increased_genes2 = non_ribo_df[non_ribo_df['increased_0.05']].index\n",
    "decreased_genes2 = non_ribo_df[non_ribo_df['decreased_0.05']].index\n",
    "\n",
    "print('number of increased genes', len(increased_genes2))\n",
    "print('number of down genes', len(decreased_genes2))\n",
    "\n",
    "print('median change increased', 2**non_ribo_df.loc[increased_genes2, 'log2FoldChange'].median())\n",
    "change_decreased = 2**non_ribo_df.loc[decreased_genes2, 'log2FoldChange'].median()\n",
    "print('median change decreased', change_decreased)\n",
    "print('median fc decreased', 1/change_decreased)"
   ]
  },
  {
   "cell_type": "code",
   "execution_count": 13,
   "metadata": {},
   "outputs": [],
   "source": [
    "#Fig 5C, Plot matches to genes decreased after depletion vs. other genes using Blast results\n",
    "#Revised counting of probe transcriptome alignments using only the spliced and longest version of each txt:\n",
    "homol_file = os.path.join(results_dir, 'probe_design_results/dmel_homol_check_200715/probeoff_e500.csv')\n",
    "homol_df = pd.read_csv(homol_file, names = ['qseqid', 'sseqid', 'pident', 'length',\n",
    "'mismatch', 'gapopen', 'qstart', 'qend', 'sstart', 'send', 'evalue', 'bitscore'])\n",
    "\n",
    "#extract the plus strand alignments, since this would indicate potential probe hyb since we aligned the reverse complement\n",
    "homol_df['strand'] = homol_df.apply(lambda x: 'plus' if x['send'] > x['sstart'] else 'minus', axis = 1)\n",
    "pdf = homol_df[homol_df['strand'] == 'plus'].copy()\n",
    "ident_df = pdf[pdf['pident'] == 100].copy()\n",
    "#add gene symbol\n",
    "ident_df['gene'] = ident_df['sseqid'].apply(add_gene)\n",
    "\n",
    "#count matches to decreased genes vs. all other genes\n",
    "lengths_used = [12, 13, 14, 15]\n",
    "ident_df['down'] = ident_df['gene'].isin(decreased_genes)\n",
    "ident_df['other'] = ident_df['gene'].isin(other_genes)\n",
    "ident_df = ident_df.loc[ident_df['length'].isin(lengths_used)].copy()\n",
    "gene_count_down, gene_down_label = get_count_table(ident_df[ident_df['down']], 'length', 'decreased genes')\n",
    "gene_count_other, gene_other_label = get_count_table(ident_df[ident_df['other']], 'length', 'other genes')\n",
    "gene_count_df = pd.concat([gene_count_down, gene_count_other])"
   ]
  },
  {
   "cell_type": "code",
   "execution_count": 14,
   "metadata": {},
   "outputs": [
    {
     "data": {
      "image/png": "[encoded data removed]",
      "text/plain": [
       "<Figure size 154.772x119.055 with 1 Axes>"
      ]
     },
     "metadata": {
      "needs_background": "light"
     },
     "output_type": "display_data"
    }
   ],
   "source": [
    "#Plot matches to genes decreased after depletion vs. other genes using Blast results\n",
    "panel_name = '5C'\n",
    "\n",
    "plot = Plotter(corners = [0.19, 0.24, 0.71, 0.71], figsize = (sfig*1.3, sfig))\n",
    "plot.nudge_corners(left = True)\n",
    "plot.setup_axis()\n",
    "\n",
    "plot.ax = sns.barplot(x = 'length', y = 'percent_counts', \n",
    "                      hue_order = [gene_other_label, gene_down_label], \n",
    "                      hue = 'category', data = gene_count_df, \n",
    "                      palette = [color_dict['grey'], color_dict['indigo']], \n",
    "                      ax = plot.ax)\n",
    "\n",
    "\n",
    "plot.set_ylabel('% of alignments')\n",
    "plot.set_xlabel('alignment length (bp)', nudge = (-0.05, 0))\n",
    "\n",
    "leg = plot.ax.get_legend().set_visible(False)\n",
    "plot.ax.legend(loc = 3, ncol = 1, fontsize = label_fontsize, bbox_to_anchor=(0.21, 0.5, 1.45, .102))\n",
    "plot.add_letter('C')\n",
    "plt.savefig(os.path.join(outdir, '{}.{}'.format(panel_name, outfmt)), dpi = 600)"
   ]
  },
  {
   "cell_type": "code",
   "execution_count": 15,
   "metadata": {},
   "outputs": [],
   "source": [
    "#Make Fig. S5\n",
    "outdir2 = '../figures/FS5/'\n",
    "os.makedirs(outdir2, exist_ok = True)"
   ]
  },
  {
   "cell_type": "code",
   "execution_count": 16,
   "metadata": {},
   "outputs": [],
   "source": [
    "#Fig S5A, plot matches for complementarity between probes and genes using Stellar homology search\n",
    "stellar_probe_file = os.path.join(results_dir, 'probe_design_results/dmel_homol_check_200715/probes_st_26_75.gff')\n",
    "stellar_df = pd.read_csv(stellar_probe_file, sep = '\\t', names = ['txt_id', 'source', 'feature_type', 'start', 'end',\n",
    "'percent_id', 'strand', 'phase', 'cigar'])\n",
    "stellar_df['length'] = stellar_df['end'] - stellar_df['start'] + 1\n",
    "stellar_df['gene'] = stellar_df['txt_id'].apply(add_gene)\n",
    "stellar_df['down'] = stellar_df['gene'].isin(decreased_genes)\n",
    "stellar_df['other'] = stellar_df['gene'].isin(other_genes)\n",
    "odf = stellar_df[stellar_df['other']].copy()\n",
    "ddf = stellar_df[stellar_df['down']].copy()\n",
    "#https://stackoverflow.com/questions/19384532/get-statistics-for-each-group-such-as-count-mean-etc-using-pandas-groupby\n",
    "ocount = odf.groupby(['percent_id', 'length']).size().reset_index(name = 'counts')\n",
    "dcount = ddf.groupby(['percent_id', 'length']).size().reset_index(name = 'counts')\n",
    "ocount['gene type'] = 'other'\n",
    "dcount['gene type'] = 'decreased'\n",
    "bdf = pd.concat([ocount, dcount])"
   ]
  },
  {
   "cell_type": "code",
   "execution_count": 17,
   "metadata": {},
   "outputs": [
    {
     "name": "stdout",
     "output_type": "stream",
     "text": [
      "total alignments 9151\n",
      "decreased 154\n",
      "other 8997\n",
      "percent of decreased alns 1.682876188394711\n"
     ]
    },
    {
     "data": {
      "image/png": "[encoded data removed]",
      "text/plain": [
       "<Figure size 196.441x119.055 with 1 Axes>"
      ]
     },
     "metadata": {
      "needs_background": "light"
     },
     "output_type": "display_data"
    }
   ],
   "source": [
    "#Plot matches for complementarity between probes and genes using Stellar homology search\n",
    "loc = plticker.MultipleLocator(base=1.0)\n",
    "panel_name = 'S5A'\n",
    "\n",
    "plot = Plotter(corners = [0.14, 0.24, 0.52, 0.67], figsize = (sfig*1.65, sfig))\n",
    "\n",
    "plot.nudge_corners(left = True, right = True)\n",
    "plot.setup_axis()\n",
    "\n",
    "plot.ax = sns.scatterplot(x = 'length', y = 'percent_id', size = 'counts', data = bdf, hue = 'gene type',\n",
    "                          hue_order = ['decreased', 'other'], edgecolor = 'face', \n",
    "                          palette = [color_dict['indigo'], color_dict['grey']])\n",
    "\n",
    "#set the decreased genes to unfilled circles\n",
    "indigo = np.array(matplotlib.colors.to_rgba(color_dict['indigo']))\n",
    "collections = plot.ax.collections\n",
    "for c in collections:\n",
    "    facecol = c.get_facecolor()\n",
    "    c.set_edgecolor(facecol)\n",
    "    ec = c.get_edgecolor()\n",
    "    #match indigo ones to transparent\n",
    "    new_colors  = ['none' if (i == indigo).all() else i for i in facecol]\n",
    "    c.set_facecolor(new_colors)\n",
    "\n",
    "plot.ax.yaxis.set_major_locator(loc)\n",
    "\n",
    "plot.set_ylabel('% complementarity')\n",
    "\n",
    "plot.set_xlabel('length of complementarity (bp)', nudge = (-0.01, 0))\n",
    "#plot.ax.text(0.5, 1.04, 'probe matches with mRNA', ha = 'center', transform = plot.ax.transAxes, fontsize = label_fontsize)\n",
    "plot.ax.text(0, 1.04, 'probe matches with transcripts', ha = 'left', transform = plot.ax.transAxes, fontsize = label_fontsize)\n",
    "\n",
    "plot.ax.legend(ncol = 1, fontsize = label_fontsize, bbox_to_anchor= (1, 1), handletextpad = 0)\n",
    "\n",
    "plot.add_letter('A')\n",
    "plt.savefig(os.path.join(outdir2, '{}.{}'.format(panel_name, outfmt)), dpi = 600)\n",
    "\n",
    "decreased_gene_aln = dcount['counts'].sum()\n",
    "other_gene_aln = ocount['counts'].sum()\n",
    "total_aln = decreased_gene_aln + other_gene_aln\n",
    "percent_decreased_aln = decreased_gene_aln*100/total_aln\n",
    "\n",
    "print('total alignments', total_aln)\n",
    "print('decreased', decreased_gene_aln)\n",
    "print('other', other_gene_aln)\n",
    "print('percent of decreased alns', percent_decreased_aln)"
   ]
  },
  {
   "cell_type": "code",
   "execution_count": 18,
   "metadata": {},
   "outputs": [],
   "source": [
    "#Fig. S5B, Plot matches for complementarity between rRNA and genes using Stellar homology search\n",
    "#combine the 18S and 28S files:\n",
    "stellar_18S_file = os.path.join(results_dir, 'probe_design_results/dmel_homol_check_200715/18S_st_30_75p.gff')\n",
    "stellar_28S_file = os.path.join(results_dir, 'probe_design_results/dmel_homol_check_200715/28S_st_30_75.gff')\n",
    "stellar_rrna_combo = os.path.join(results_dir, 'probe_design_results/dmel_homol_check_200715/rrna_st_30_75p.gff')\n",
    "\n",
    "with open(stellar_rrna_combo, 'wb') as outFile:\n",
    "    with open(stellar_18S_file, 'rb') as f1, open(stellar_28S_file, 'rb') as f2:\n",
    "        shutil.copyfileobj(f1, outFile)\n",
    "        shutil.copyfileobj(f2, outFile)\n",
    "\n",
    "stellar_df = pd.read_csv(stellar_rrna_combo, sep = '\\t', names = ['txt_id', 'source', 'feature_type', 'start', 'end',\n",
    "'percent_id', 'strand', 'phase', 'cigar'])\n",
    "stellar_df['length'] = stellar_df['end'] - stellar_df['start'] + 1\n",
    "stellar_df['gene'] = stellar_df['txt_id'].apply(add_gene)\n",
    "stellar_df['down'] = stellar_df['gene'].isin(decreased_genes)\n",
    "stellar_df['other'] = stellar_df['gene'].isin(other_genes)\n",
    "odf = stellar_df[stellar_df['other']].copy()\n",
    "ddf = stellar_df[stellar_df['down']].copy()\n",
    "#https://stackoverflow.com/questions/19384532/get-statistics-for-each-group-such-as-count-mean-etc-using-pandas-groupby\n",
    "ocount = odf.groupby(['percent_id', 'length']).size().reset_index(name = 'counts')\n",
    "dcount = ddf.groupby(['percent_id', 'length']).size().reset_index(name = 'counts')\n",
    "ocount['gene type'] = 'other'\n",
    "dcount['gene type'] = 'decreased'\n",
    "bdf = pd.concat([ocount, dcount])"
   ]
  },
  {
   "cell_type": "code",
   "execution_count": 19,
   "metadata": {},
   "outputs": [
    {
     "name": "stdout",
     "output_type": "stream",
     "text": [
      "total alignments 20000\n",
      "decreased 310\n",
      "other 19690\n",
      "percent of decreased alns 1.55\n"
     ]
    },
    {
     "data": {
      "image/png": "[encoded data removed]",
      "text/plain": [
       "<Figure size 196.441x119.055 with 1 Axes>"
      ]
     },
     "metadata": {
      "needs_background": "light"
     },
     "output_type": "display_data"
    }
   ],
   "source": [
    "#Plot matches for complementarity between rRNA and genes using Stellar homology search\n",
    "loc = plticker.MultipleLocator(base=1.0)\n",
    "panel_name = 'S5B'\n",
    "\n",
    "plot = Plotter(corners = [0.14, 0.24, 0.52, 0.67], figsize = (sfig*1.65, sfig))\n",
    "\n",
    "plot.nudge_corners(left = True, right = True)\n",
    "plot.setup_axis()\n",
    "\n",
    "plot.ax = sns.scatterplot(x = 'length', y = 'percent_id', size = 'counts', data = bdf, hue = 'gene type',\n",
    "                          hue_order = ['decreased', 'other'], edgecolor = 'face', \n",
    "                          palette = [color_dict['indigo'], color_dict['grey']])\n",
    "\n",
    "#set the decreased genes to unfilled circles\n",
    "indigo = np.array(matplotlib.colors.to_rgba(color_dict['indigo']))\n",
    "collections = plot.ax.collections\n",
    "for c in collections:\n",
    "    facecol = c.get_facecolor()\n",
    "    c.set_edgecolor(facecol)\n",
    "    ec = c.get_edgecolor()\n",
    "    #match indigo ones to transparent\n",
    "    new_colors  = ['none' if (i == indigo).all() else i for i in facecol]\n",
    "    c.set_facecolor(new_colors)\n",
    "\n",
    "plot.ax.yaxis.set_major_locator(loc)\n",
    "\n",
    "plot.set_ylabel('% complementarity')\n",
    "plot.set_xlabel('length of complementarity (bp)', nudge = (-0.01, 0))\n",
    "#plot.ax.text(0.5, 1.04, 'rRNA matches with transcripts', ha = 'center', transform = plot.ax.transAxes, fontsize = label_fontsize)\n",
    "plot.ax.text(0, 1.04, 'rRNA matches with transcripts', ha = 'left', transform = plot.ax.transAxes, fontsize = label_fontsize)\n",
    "plot.ax.legend(ncol = 1, fontsize = label_fontsize, bbox_to_anchor= (1, 1), handletextpad = 0)\n",
    "\n",
    "plot.add_letter('B')\n",
    "plt.savefig(os.path.join(outdir2, '{}.{}'.format(panel_name, outfmt)), dpi = 600)\n",
    "\n",
    "decreased_gene_aln = dcount['counts'].sum()\n",
    "other_gene_aln = ocount['counts'].sum()\n",
    "total_aln = decreased_gene_aln + other_gene_aln\n",
    "percent_decreased_aln = decreased_gene_aln*100/total_aln\n",
    "\n",
    "print('total alignments', total_aln)\n",
    "print('decreased', decreased_gene_aln)\n",
    "print('other', other_gene_aln)\n",
    "print('percent of decreased alns', percent_decreased_aln)"
   ]
  }
 ],
 "metadata": {
  "kernelspec": {
   "display_name": "Python 3",
   "language": "python",
   "name": "python3"
  },
  "language_info": {
   "codemirror_mode": {
    "name": "ipython",
    "version": 3
   },
   "file_extension": ".py",
   "mimetype": "text/x-python",
   "name": "python",
   "nbconvert_exporter": "python",
   "pygments_lexer": "ipython3",
   "version": "3.7.6"
  }
 },
 "nbformat": 4,
 "nbformat_minor": 4
}
