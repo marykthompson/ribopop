{
 "cells": [
  {
   "cell_type": "markdown",
   "metadata": {},
   "source": [
    "### Fig DESeq Summary (Fig. 5)\n",
    "- 5A: Scatterplot to show correlation between depleted and input quantseq\n",
    "- 5B: MA plot of depleted vs. input quant-seq\n",
    "- 5C: Bar plot for complementarity to the probes for genes going down + depletion vs other genes."
   ]
  },
  {
   "cell_type": "code",
   "execution_count": 2,
   "metadata": {},
   "outputs": [],
   "source": [
    "#Imports\n",
    "import sys\n",
    "import pandas as pd\n",
    "import matplotlib.pyplot as plt\n",
    "import matplotlib\n",
    "import os\n",
    "import gffutils\n",
    "import seaborn as sns\n",
    "import numpy as np\n",
    "import scipy.stats\n",
    "import itertools\n",
    "import matplotlib.ticker as plticker\n",
    "\n",
    "sys.path.append('../scripts/')\n",
    "from plot_helpers import *\n",
    "\n",
    "%matplotlib inline\n",
    "%load_ext autoreload\n",
    "%autoreload 2\n",
    "\n",
    "db = gffutils.FeatureDB(gffutils_db)"
   ]
  },
  {
   "cell_type": "code",
   "execution_count": 3,
   "metadata": {},
   "outputs": [],
   "source": [
    "#Load gene biotypes:\n",
    "biotype_dict = {}\n",
    "for i in db.all_features(featuretype = 'gene'):\n",
    "    this_gene = i.id\n",
    "    try:\n",
    "        biotype = db[this_gene].attributes['gene_biotype'][0]\n",
    "        genename = db[this_gene].attributes['gene_name'][0]\n",
    "        #change biotype to rRNA if rRNA is in the name -- occurs for some pseudogenes\n",
    "        if 'rRNA' in genename:\n",
    "            biotype = 'rRNA'\n",
    "            \n",
    "    except KeyError:\n",
    "        biotype = 'spike-in' #only the spike-ins don't have a biotype\n",
    "        \n",
    "    biotype_dict[this_gene] = biotype"
   ]
  },
  {
   "cell_type": "code",
   "execution_count": 4,
   "metadata": {},
   "outputs": [
    {
     "name": "stdout",
     "output_type": "stream",
     "text": [
      "r2 val from averages 0.9728855731106985\n"
     ]
    }
   ],
   "source": [
    "#Make outdir and load the data\n",
    "#Calculate the Pearson r2 between the mean counts for depleted and input Quantseq libraries\n",
    "outdir = '../figures/F5/'\n",
    "os.makedirs(outdir, exist_ok = True)\n",
    "quant_file = os.path.join(results_dir, 'rnaseq_data_200424/results/gene_quantification/summary_abundance_by_gene.csv')\n",
    "df = pd.read_csv(quant_file)\n",
    "\n",
    "#Drop the SIRV, spikein values\n",
    "nospike_df = df[~df['gene'].apply(lambda x: x.startswith('SIRV'))].copy().set_index('gene')\n",
    "\n",
    "mean_df = nospike_df.groupby(['gene', 'experiment']).mean()\n",
    "mean_df.reset_index('experiment', inplace = True)\n",
    "\n",
    "#Get the input and subtracted values, put back together\n",
    "in_df = mean_df.loc[mean_df['experiment'] == 'inputq', 'summed_tpm'].copy()\n",
    "sub_df = mean_df.loc[mean_df['experiment'] == 'subtractedq', 'summed_tpm'].copy()\n",
    "comp_df = pd.merge(in_df, sub_df, left_index = True, right_index = True, suffixes = ('_in', '_sub'))\n",
    "#restrict to genes with mean TPM >= 1\n",
    "filtered_df = comp_df[(comp_df['summed_tpm_in'] >= 1) & (comp_df['summed_tpm_sub'] >= 1)].copy()\n",
    "filtered_df['summed_tpm_in_log10'] = filtered_df['summed_tpm_in'].apply(np.log10)\n",
    "filtered_df['summed_tpm_sub_log10'] = filtered_df['summed_tpm_sub'].apply(np.log10)\n",
    "filtered_df['biotype'] = filtered_df.index.map(biotype_dict)\n",
    "\n",
    "#get data specifically from protein coding and ncRNAs:\n",
    "coding_ncRNA = ['protein_coding', 'ncRNA']\n",
    "filtered_df['coding_ncRNA'] = filtered_df['biotype'].isin(coding_ncRNA)\n",
    "cfilt_df = filtered_df[filtered_df['coding_ncRNA']].copy()\n",
    "\n",
    "rval, pval = scipy.stats.pearsonr(cfilt_df['summed_tpm_in'], cfilt_df['summed_tpm_sub'])\n",
    "r2_val = rval**2\n",
    "print('r2 val from averages', r2_val)"
   ]
  },
  {
   "cell_type": "code",
   "execution_count": 5,
   "metadata": {},
   "outputs": [
    {
     "data": {
      "image/png": "[encoded data removed]",
      "text/plain": [
       "<Figure size 119.055x119.055 with 1 Axes>"
      ]
     },
     "metadata": {
      "needs_background": "light"
     },
     "output_type": "display_data"
    }
   ],
   "source": [
    "#Plot the correlation between input and depleted libraries\n",
    "panel_name = '5A'\n",
    "plot = Plotter(corners = [0.27, 0.27, 0.6, 0.6], figsize = (sfig, sfig))\n",
    "\n",
    "plot.nudge_corners(left = True, right = True)\n",
    "\n",
    "plot.setup_axis()\n",
    "pointsize = 0.5\n",
    "\n",
    "plot.ax.scatter(cfilt_df['summed_tpm_in_log10'], cfilt_df['summed_tpm_sub_log10'], s = pointsize)\n",
    "plot.set_ylabel('depleted RNA level\\n (log'r'$_{10}$'') TPM', nudge = (0.015, 0))\n",
    "plot.set_xlabel('input RNA level\\n (log'r'$_{10}$'') TPM')\n",
    "loc = plticker.MultipleLocator(base=2.0)\n",
    "plot.ax.xaxis.set_major_locator(loc)\n",
    "plot.ax.yaxis.set_major_locator(loc)\n",
    "\n",
    "plot.ax.set_xlim(-0.25, 5.3)\n",
    "plot.ax.set_xlim(-0.25, 5.3)\n",
    "plot.ax.text(0.5, 4, 'r'r'$^2$'' = %1.2f' % r2_val, fontsize = 8)\n",
    "plot.add_letter('A', ha = 'right')\n",
    "plt.savefig(os.path.join(outdir, '{}.png'.format(panel_name)), dpi = 600)"
   ]
  },
  {
   "cell_type": "code",
   "execution_count": 176,
   "metadata": {},
   "outputs": [
    {
     "name": "stdout",
     "output_type": "stream",
     "text": [
      "rep1\n",
      "0.9773366893646647\n",
      "rep2\n",
      "0.9500704601446033\n",
      "rep3\n",
      "0.9764984841010852\n"
     ]
    }
   ],
   "source": [
    "#Get the r2 values between subtracted and input for each replicate\n",
    "exps = ['inputq', 'subtractedq']\n",
    "reps = ['rep1', 'rep2', 'rep3']\n",
    "#get data specifically from protein coding and ncRNAs:\n",
    "nospike_df['biotype'] = nospike_df.index.map(biotype_dict)\n",
    "nospike_df['coding_ncRNA'] = nospike_df['biotype'].isin(coding_ncRNA)\n",
    "cnc_df = nospike_df[nospike_df['coding_ncRNA']].copy()\n",
    "\n",
    "rep_df = cnc_df.set_index(['experiment', 'replicate'], append = True)\n",
    "\n",
    "#Get r**2 for depleted vs. input samples at each replicate\n",
    "for r in reps:\n",
    "    print(r)\n",
    "    x_df = rep_df.loc[pd.IndexSlice[:, exps[0], r], 'summed_tpm'].reset_index(['experiment', 'replicate'])\n",
    "    y_df = rep_df.loc[pd.IndexSlice[:, exps[1], r], 'summed_tpm'].reset_index(['experiment', 'replicate'])\n",
    "    c_df = pd.merge(x_df, y_df, left_index = True, right_index = True, suffixes = ('_in', '_sub'))\n",
    "    f_df = c_df[(c_df['summed_tpm_in'] >= 1) & (c_df['summed_tpm_sub'] >= 1)].copy()\n",
    "    rval, pval = scipy.stats.pearsonr(f_df['summed_tpm_in'], f_df['summed_tpm_sub'])\n",
    "    r2_val = rval**2\n",
    "    print(r2_val)"
   ]
  },
  {
   "cell_type": "code",
   "execution_count": 178,
   "metadata": {},
   "outputs": [
    {
     "name": "stdout",
     "output_type": "stream",
     "text": [
      "experiment: inputq\n",
      "rep1\trep2\n",
      "0.9749214646593681\n",
      "rep1\trep3\n",
      "0.974606576586441\n",
      "rep2\trep3\n",
      "0.926387371299923\n",
      "experiment: subtractedq\n",
      "rep1\trep2\n",
      "0.990996679628189\n",
      "rep1\trep3\n",
      "0.9708609185001218\n",
      "rep2\trep3\n",
      "0.9509357775373605\n"
     ]
    }
   ],
   "source": [
    "#Get the interreplicate r2 values\n",
    "for e in exps:\n",
    "    print('experiment: %s' % e)\n",
    "    for c in itertools.combinations(reps, 2):\n",
    "        print('%s\\t%s' % (c[0], c[1]))\n",
    "        x_df = rep_df.loc[pd.IndexSlice[:, e, c[0]], 'summed_tpm'].reset_index(['experiment', 'replicate'])\n",
    "        y_df = rep_df.loc[pd.IndexSlice[:, e, c[1]], 'summed_tpm'].reset_index(['experiment', 'replicate'])\n",
    "        c_df = pd.merge(x_df, y_df, left_index = True, right_index = True, suffixes = ('_in', '_sub'))\n",
    "        f_df = c_df[(c_df['summed_tpm_in'] >= 1) & (c_df['summed_tpm_sub'] >= 1)].copy()\n",
    "        rval, pval = scipy.stats.pearsonr(f_df['summed_tpm_in'], f_df['summed_tpm_sub'])\n",
    "        r2_val = rval**2\n",
    "        print(r2_val)"
   ]
  },
  {
   "cell_type": "code",
   "execution_count": 7,
   "metadata": {},
   "outputs": [
    {
     "data": {
      "image/png": "[encoded data removed]",
      "text/plain": [
       "<Figure size 119.055x119.055 with 1 Axes>"
      ]
     },
     "metadata": {
      "needs_background": "light"
     },
     "output_type": "display_data"
    }
   ],
   "source": [
    "#Fig 5B, plot the results of the DESeq2 analysis\n",
    "#https://stackoverflow.com/questions/18773662/python-scatter-plot-logarithmic-scale\n",
    "panel_name = '5B'\n",
    "\n",
    "sm_rrnas = ['FBgn0085802', 'FBgn0267501', 'FBgn0267498']\n",
    "lg_rrnas = ['FBgn0267497', 'FBgn0267504']\n",
    "pre_rrnas = ['FBgn0267506']\n",
    "\n",
    "deseq_file = os.path.join(results_dir, 'rnaseq_data_200424/results/diffexp/subtractedq-vs-inputq.diffexp.csv')\n",
    "deseq_df = pd.read_csv(deseq_file, index_col = 0)\n",
    "deseq_df['log10_baseMean'] = deseq_df['baseMean'].apply(np.log10)\n",
    "\n",
    "padj_threshold = 0.01\n",
    "deseq_df['increased'] = (deseq_df['log2FoldChange'] > 0) & (deseq_df['padj'] < padj_threshold)\n",
    "deseq_df['decreased'] = (deseq_df['log2FoldChange'] < 0) & (deseq_df['padj'] < padj_threshold)\n",
    "\n",
    "#make space for the legend\n",
    "#plot = Plotter(corners = [0.27, 0.27, 0.6, 0.6], figsize = (sfig, sfig))\n",
    "plot = Plotter(corners = [0.32, 0.27, 0.6, 0.6], figsize = (sfig, sfig))\n",
    "\n",
    "plot.nudge_corners(left = True, right = True)\n",
    "plot.setup_axis()\n",
    "\n",
    "pointsize = 0.5\n",
    "bg = plot.ax.scatter('log10_baseMean', 'log2FoldChange', data = deseq_df, s = pointsize)\n",
    "up = plot.ax.scatter('log10_baseMean', 'log2FoldChange', data = deseq_df[deseq_df['increased']],\n",
    "                     s = pointsize, color = color_dict['rose'])\n",
    "\n",
    "down = plot.ax.scatter('log10_baseMean', 'log2FoldChange', data = deseq_df[deseq_df['decreased']],\n",
    "                     s = pointsize, color = color_dict['indigo'])\n",
    "plot.ax.axhline(y = 0, color = 'k', linestyle = '--')\n",
    "plot.ax.set_ylim(-20, 20)\n",
    "\n",
    "for g in lg_rrnas:\n",
    "    x = deseq_df.loc[g, 'log10_baseMean']\n",
    "    y = deseq_df.loc[g, 'log2FoldChange']\n",
    "    plot.ax.annotate('28S', xy=(x + 0.15, y), xytext=(x + 1, y), bbox=dict(boxstyle='square,pad=-0.07', fc='none', ec='none'), ha = 'left', va = 'center', fontsize = 5, arrowprops=dict(arrowstyle = '-', connectionstyle = 'arc3', linewidth = 0.5))\n",
    "\n",
    "for g in sm_rrnas:\n",
    "    x = deseq_df.loc[g, 'log10_baseMean']\n",
    "    y = deseq_df.loc[g, 'log2FoldChange']\n",
    "    if g == 'FBgn0085802':        \n",
    "        plot.ax.annotate('18S', xy=(x - 0.15, y + 0.05), xytext=(x - 1, y + 1),  bbox=dict(boxstyle='square,pad=-0.07', fc='none', ec='none'),fontsize = 5, va = 'center', ha = 'right', arrowprops=dict(arrowstyle = '-', connectionstyle = 'arc3', linewidth = 0.5))\n",
    "    else:\n",
    "        plot.ax.annotate('18S', xy=(x - 0.15, y), xytext=(x - 1, y),  bbox=dict(boxstyle='square,pad=-0.07', fc='none', ec='none'),fontsize = 5, va = 'center', ha = 'right', arrowprops=dict(arrowstyle = '-', connectionstyle = 'arc3', linewidth = 0.5))\n",
    "\n",
    "for g in pre_rrnas:\n",
    "    x = deseq_df.loc[g, 'log10_baseMean']\n",
    "    y = deseq_df.loc[g, 'log2FoldChange']  \n",
    "    plot.ax.annotate('pre-rRNA', xy=(x - 0.15, y + 0.15), xytext=(x - 1, y + 3), bbox=dict(boxstyle='square,pad=-0.07', fc='none', ec='none'), ha = 'center', va = 'bottom', fontsize = 5, arrowprops=dict(arrowstyle = '-', connectionstyle = 'arc3', linewidth = 0.5))\n",
    "\n",
    "plot.ax.legend([up, down, bg], ['increased', 'decreased'], ncol = 2, bbox_to_anchor=(-0.41, 1.1, 1.45, .102),\n",
    "               fontsize = 8, borderpad = 0.2, borderaxespad=0., labelspacing = 0, handletextpad = -0.5, mode = 'expand', markerscale = 3)\n",
    "\n",
    "ytext =  'log'r'$_{2}$' ' fold change\\n(depleted / input)'\n",
    "xtext = 'mean expression\\n(log'r'$_{10}$' ' base mean)'\n",
    "plot.set_xlabel(xtext)\n",
    "plot.set_ylabel(ytext, nudge = (0.015, 0))\n",
    "#borderpad effects the box size but it is unevenly distributed - left one is still over on right a bit\n",
    "plot.add_letter('B', ha = 'right')\n",
    "plt.savefig(os.path.join(outdir, '{}.png'.format(panel_name)), dpi = 600)"
   ]
  },
  {
   "cell_type": "markdown",
   "metadata": {},
   "source": [
    "##The targeted transcripts\n",
    "18S:\n",
    "FBtr0346874 #FBgn0085802\n",
    "FBtr0346882 #FBgn0267501\n",
    "FBtr0346878 #FBgn0267498\n",
    "28S:\n",
    "FBtr0346876 #FBgn0267497\n",
    "FBtr0346885 #FBgn0267504\n",
    "\n",
    "an untargeted pre-rRNA that is changing a lot:\n",
    "FBgn0267506"
   ]
  },
  {
   "cell_type": "code",
   "execution_count": 14,
   "metadata": {},
   "outputs": [
    {
     "name": "stdout",
     "output_type": "stream",
     "text": [
      "number non-zero genes 14852\n"
     ]
    }
   ],
   "source": [
    "#Assign genes to biotype\n",
    "deseq_df['biotype'] = deseq_df.index.map(biotype_dict)\n",
    "#Remove rRNAs and spike-ins from this analysis as they are not relevant genes for this analysis\n",
    "deseq_df2 = deseq_df[(deseq_df['biotype'] != 'rRNA') & (deseq_df['biotype'] != 'spike-in')].dropna(subset = ['log2FoldChange']).copy()\n",
    "print('number non-zero genes', len(deseq_df2))"
   ]
  },
  {
   "cell_type": "code",
   "execution_count": 15,
   "metadata": {},
   "outputs": [
    {
     "name": "stdout",
     "output_type": "stream",
     "text": [
      "num increased 30\n",
      "med increased 1.8881352250656875\n",
      "num decreased 217\n",
      "med decreased 0.4561820734973569\n",
      "med decreased fold-change 2.1921071828478897\n"
     ]
    }
   ],
   "source": [
    "#Report number and fold-change of increasing and decreasing genes\n",
    "decreased_df = deseq_df2[deseq_df2['decreased']].copy()\n",
    "increased_df = deseq_df2[deseq_df2['increased']].copy()\n",
    "\n",
    "print('num increased', len(increased_df))\n",
    "print('med increased', 2**increased_df['log2FoldChange'].median())\n",
    "print('num decreased', len(decreased_df))\n",
    "print('med decreased', 2**decreased_df['log2FoldChange'].median())\n",
    "print('med decreased fold-change', 1/2**decreased_df['log2FoldChange'].median())"
   ]
  },
  {
   "cell_type": "code",
   "execution_count": 16,
   "metadata": {},
   "outputs": [],
   "source": [
    "#Fig 5B, quantifying probe matches of downregulated genes vs. other genes\n",
    "def get_count_table(df, value, category):\n",
    "    '''\n",
    "    Return a dataframe containing counts of\n",
    "    a specific value. For example length or bitscore.\n",
    "    Create a column labeled category with the name for the bar plot\n",
    "    '''\n",
    "    count_s = df[value].value_counts().to_frame().rename(columns = {value:'counts'})\n",
    "    count_df = pd.DataFrame(count_s)\n",
    "    count_df['percent_counts'] = (count_df['counts']/count_df['counts'].sum())*100\n",
    "    count_df[value] = count_df.index\n",
    "    label = '%s\\n(n = %s)' % (category, count_df['counts'].sum())\n",
    "    count_df['category'] = label\n",
    "    return count_df, label\n",
    "\n",
    "def add_gene(x):\n",
    "    if x.startswith('FBg'):\n",
    "        gene = x.split('_')[0]\n",
    "    else:\n",
    "        gene = next(db.parents(x, featuretype = 'gene')).id\n",
    "    return gene"
   ]
  },
  {
   "cell_type": "code",
   "execution_count": 17,
   "metadata": {},
   "outputs": [],
   "source": [
    "#Fig 5C, plot the alignment scores of all genes vs. the decreasing genes\n",
    "down_genes = decreased_df.index\n",
    "lengths_used = [12, 13, 14, 15]\n",
    "\n",
    "homol_file = os.path.join(results_dir, 'probe_design_results/dmel_homology/Dmel_probe_blast_e500.csv')\n",
    "homol_df = pd.read_csv(homol_file, names = ['qseqid', 'sseqid', 'pident', 'length',\n",
    "    'mismatch', 'gapopen', 'qstart', 'qend', 'sstart', 'send', 'evalue', 'bitscore'])\n",
    "\n",
    "#extract the minus strand alignments, since this would indicate potential probe hyb\n",
    "homol_df['strand'] = homol_df.apply(lambda x: 'plus' if x['send'] > x['sstart'] else 'minus', axis = 1)\n",
    "minus_homol_df = homol_df[homol_df['strand'] == 'minus'].copy()\n",
    "#add gene symbol\n",
    "minus_homol_df['gene'] = minus_homol_df['sseqid'].apply(add_gene)\n",
    "#count matches to decreased transcripts vs. all other transcripts\n",
    "lengths_used = [12, 13, 14, 15]\n",
    "minus_homol_df['down'] = minus_homol_df['gene'].isin(down_genes)\n",
    "ident_df = minus_homol_df[minus_homol_df['pident'] == 100].copy()\n",
    "ident_df = ident_df.loc[ident_df['length'].isin(lengths_used)].copy()\n",
    "txt_count_down, txt_down_label = get_count_table(ident_df[ident_df['down']], 'length', 'decreased genes')\n",
    "txt_count_other, txt_other_label = get_count_table(ident_df[~ident_df['down']], 'length', 'other genes')\n",
    "txt_count_df = pd.concat([txt_count_down, txt_count_other])"
   ]
  },
  {
   "cell_type": "code",
   "execution_count": 18,
   "metadata": {},
   "outputs": [
    {
     "data": {
      "image/png": "[encoded data removed]",
      "text/plain": [
       "<Figure size 154.772x119.055 with 1 Axes>"
      ]
     },
     "metadata": {
      "needs_background": "light"
     },
     "output_type": "display_data"
    }
   ],
   "source": [
    "#Plot matches in genome of matches to genes decreased after depletion vs. other genes\n",
    "panel_name = '5C'\n",
    "\n",
    "plot = Plotter(corners = [0.19, 0.24, 0.71, 0.71], figsize = (sfig*1.3, sfig))\n",
    "plot.nudge_corners(left = True)\n",
    "plot.setup_axis()\n",
    "\n",
    "plot.ax = sns.barplot(x = 'length', y = 'percent_counts', \n",
    "                      hue_order = [txt_other_label, txt_down_label], \n",
    "                      hue = 'category', data = txt_count_df, \n",
    "                      palette = [color_dict['grey'], color_dict['indigo']], \n",
    "                      ax = plot.ax)\n",
    "\n",
    "plot.set_ylabel('% of alignments')\n",
    "plot.set_xlabel('length of complementarity (nt)', nudge = (-0.05, 0))\n",
    "\n",
    "leg = plot.ax.get_legend().set_visible(False)\n",
    "plot.ax.legend(loc = 3, ncol = 1, fontsize = label_fontsize, bbox_to_anchor=(0.21, 0.5, 1.45, .102))\n",
    "plot.add_letter('C')\n",
    "plt.savefig(os.path.join(outdir, '{}.png'.format(panel_name)), dpi = 600)"
   ]
  },
  {
   "cell_type": "code",
   "execution_count": 19,
   "metadata": {},
   "outputs": [
    {
     "data": {
      "text/html": [
       "<div>\n",
       "<style scoped>\n",
       "    .dataframe tbody tr th:only-of-type {\n",
       "        vertical-align: middle;\n",
       "    }\n",
       "\n",
       "    .dataframe tbody tr th {\n",
       "        vertical-align: top;\n",
       "    }\n",
       "\n",
       "    .dataframe thead th {\n",
       "        text-align: right;\n",
       "    }\n",
       "</style>\n",
       "<table border=\"1\" class=\"dataframe\">\n",
       "  <thead>\n",
       "    <tr style=\"text-align: right;\">\n",
       "      <th></th>\n",
       "      <th>counts</th>\n",
       "      <th>percent_counts</th>\n",
       "      <th>length</th>\n",
       "      <th>category</th>\n",
       "    </tr>\n",
       "  </thead>\n",
       "  <tbody>\n",
       "    <tr>\n",
       "      <th>12</th>\n",
       "      <td>22</td>\n",
       "      <td>75.862069</td>\n",
       "      <td>12</td>\n",
       "      <td>decreased genes\\n(n = 29)</td>\n",
       "    </tr>\n",
       "    <tr>\n",
       "      <th>13</th>\n",
       "      <td>6</td>\n",
       "      <td>20.689655</td>\n",
       "      <td>13</td>\n",
       "      <td>decreased genes\\n(n = 29)</td>\n",
       "    </tr>\n",
       "    <tr>\n",
       "      <th>15</th>\n",
       "      <td>1</td>\n",
       "      <td>3.448276</td>\n",
       "      <td>15</td>\n",
       "      <td>decreased genes\\n(n = 29)</td>\n",
       "    </tr>\n",
       "    <tr>\n",
       "      <th>12</th>\n",
       "      <td>1578</td>\n",
       "      <td>74.293785</td>\n",
       "      <td>12</td>\n",
       "      <td>other genes\\n(n = 2124)</td>\n",
       "    </tr>\n",
       "    <tr>\n",
       "      <th>13</th>\n",
       "      <td>436</td>\n",
       "      <td>20.527307</td>\n",
       "      <td>13</td>\n",
       "      <td>other genes\\n(n = 2124)</td>\n",
       "    </tr>\n",
       "    <tr>\n",
       "      <th>14</th>\n",
       "      <td>72</td>\n",
       "      <td>3.389831</td>\n",
       "      <td>14</td>\n",
       "      <td>other genes\\n(n = 2124)</td>\n",
       "    </tr>\n",
       "    <tr>\n",
       "      <th>15</th>\n",
       "      <td>38</td>\n",
       "      <td>1.789077</td>\n",
       "      <td>15</td>\n",
       "      <td>other genes\\n(n = 2124)</td>\n",
       "    </tr>\n",
       "  </tbody>\n",
       "</table>\n",
       "</div>"
      ],
      "text/plain": [
       "    counts  percent_counts  length                   category\n",
       "12      22       75.862069      12  decreased genes\\n(n = 29)\n",
       "13       6       20.689655      13  decreased genes\\n(n = 29)\n",
       "15       1        3.448276      15  decreased genes\\n(n = 29)\n",
       "12    1578       74.293785      12    other genes\\n(n = 2124)\n",
       "13     436       20.527307      13    other genes\\n(n = 2124)\n",
       "14      72        3.389831      14    other genes\\n(n = 2124)\n",
       "15      38        1.789077      15    other genes\\n(n = 2124)"
      ]
     },
     "execution_count": 19,
     "metadata": {},
     "output_type": "execute_result"
    }
   ],
   "source": [
    "txt_count_df"
   ]
  },
  {
   "cell_type": "code",
   "execution_count": 20,
   "metadata": {},
   "outputs": [
    {
     "data": {
      "text/plain": [
       "15"
      ]
     },
     "execution_count": 20,
     "metadata": {},
     "output_type": "execute_result"
    }
   ],
   "source": [
    "#We're getting exact matches of lowest length tested for every probe, so we have set E-value cutoff high enough\n",
    "len(ident_df.loc[ident_df['length'] == 12, 'qseqid'].unique())"
   ]
  }
 ],
 "metadata": {
  "kernelspec": {
   "display_name": "Python 3",
   "language": "python",
   "name": "python3"
  },
  "language_info": {
   "codemirror_mode": {
    "name": "ipython",
    "version": 3
   },
   "file_extension": ".py",
   "mimetype": "text/x-python",
   "name": "python",
   "nbconvert_exporter": "python",
   "pygments_lexer": "ipython3",
   "version": "3.7.6"
  }
 },
 "nbformat": 4,
 "nbformat_minor": 4
}
