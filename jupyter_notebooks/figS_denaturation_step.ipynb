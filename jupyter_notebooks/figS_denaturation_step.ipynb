{
 "cells": [
  {
   "cell_type": "markdown",
   "metadata": {},
   "source": [
    "### Fig +/- denaturation step\n",
    "- Show results of removing the denaturing step on three individual primers"
   ]
  },
  {
   "cell_type": "code",
   "execution_count": 1,
   "metadata": {},
   "outputs": [],
   "source": [
    "#Imports\n",
    "import sys\n",
    "import pandas as pd\n",
    "import matplotlib.pyplot as plt\n",
    "import os\n",
    "import gffutils\n",
    "import seaborn as sns\n",
    "import numpy as np\n",
    "import scipy.stats\n",
    "\n",
    "sys.path.append('../scripts/')\n",
    "from plot_helpers import *\n",
    "import analyze_qpcr_plate\n",
    "\n",
    "%matplotlib inline\n",
    "%load_ext autoreload\n",
    "%autoreload 2"
   ]
  },
  {
   "cell_type": "code",
   "execution_count": 2,
   "metadata": {},
   "outputs": [],
   "source": [
    "#Make outdir and load the data\n",
    "outdir = '../figures/FS3/'\n",
    "os.makedirs(outdir, exist_ok = True)"
   ]
  },
  {
   "cell_type": "code",
   "execution_count": 3,
   "metadata": {},
   "outputs": [],
   "source": [
    "#Get the +/- annealing experiment data\n",
    "qpcr_dir = os.path.join(results_dir, 'qPCR_data')\n",
    "\n",
    "#annealing test data\n",
    "anneal_data = ['190828_anneal_test/20190828_161126_CT003077__QPCRBIOSMALQuantificationPlateViewResults.xlsx']\n",
    "anneal_template  = ['190828_anneal_test/qPCR_analysis_template_rep2_anneal.xlsx']\n",
    "\n",
    "anneal_df = analyze_qpcr_plate.main(os.path.join(qpcr_dir, anneal_data[0]), os.path.join(qpcr_dir, anneal_template[0]), 'act5c')\n",
    "samples_to_plot = ['B12_anneal', 'B18_anneal', 'B19_anneal', 'B12_direct', 'B18_direct', 'B19_direct']\n",
    "anneal_df = anneal_df.loc[pd.IndexSlice[:, :, [*samples_to_plot]],].copy()\n",
    "anneal_df['percent_remaining'] = anneal_df['fold_change']*100\n",
    "anneal_df['probe'], anneal_df['experiment'] = zip(*anneal_df.index.get_level_values('sample').map(lambda x: x.split('_')))\n",
    "anneal_df.replace({'experiment': {'direct': 'no anneal'}}, inplace = True)"
   ]
  },
  {
   "cell_type": "code",
   "execution_count": 4,
   "metadata": {},
   "outputs": [
    {
     "data": {
      "image/png": "[encoded data removed]",
      "text/plain": [
       "<Figure size 178.583x119.055 with 1 Axes>"
      ]
     },
     "metadata": {
      "needs_background": "light"
     },
     "output_type": "display_data"
    }
   ],
   "source": [
    "#Plot the depletion +/- the denaturation step\n",
    "panel_name = 'S3A'\n",
    "plot = Plotter(corners = [0.16, 0.33, 0.41, 0.62], figsize = (sfig*1.5, sfig))\n",
    "plot.setup_axis()\n",
    "plot.ax = sns.barplot(x=\"probe\", y=\"percent_remaining\", hue = 'experiment', data = anneal_df.reset_index(), \n",
    "                      ci = 'sd', ax = plot.ax)\n",
    "plot.set_ylabel('% 18S remaining')\n",
    "plot.ax.set_xticklabels([r'#12 (80$\\degree$C)', '#18 (74$\\degree$C)', '#19 (65$\\degree$C)'], rotation = 45)\n",
    "plot.ax.set_ylim(0, 30)\n",
    "plt.legend(bbox_to_anchor = (1, 1), ncol = 1, fontsize = label_fontsize)\n",
    "plot.ax.text(0.0, 0.16, 'probe#\\n(Tm):', ha = 'left', transform = plot.fig.transFigure, fontsize = label_fontsize)\n",
    "lines = plot.ax.lines\n",
    "for line in lines:\n",
    "    line.set_linewidth(0.75)\n",
    "    line.set_color('k')\n",
    "plt.savefig(os.path.join(outdir, '{}.png'.format(panel_name)), dpi = 600)"
   ]
  },
  {
   "cell_type": "code",
   "execution_count": null,
   "metadata": {},
   "outputs": [],
   "source": []
  }
 ],
 "metadata": {
  "kernelspec": {
   "display_name": "Python 3",
   "language": "python",
   "name": "python3"
  },
  "language_info": {
   "codemirror_mode": {
    "name": "ipython",
    "version": 3
   },
   "file_extension": ".py",
   "mimetype": "text/x-python",
   "name": "python",
   "nbconvert_exporter": "python",
   "pygments_lexer": "ipython3",
   "version": "3.7.6"
  }
 },
 "nbformat": 4,
 "nbformat_minor": 4
}
