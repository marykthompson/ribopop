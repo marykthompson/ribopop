{
 "cells": [
  {
   "cell_type": "markdown",
   "metadata": {},
   "source": [
    "### Fig S 18S probe test\n",
    "- S1A-S1C: thermodynamic properties vs. performance for the 20 probes\n",
    "- S1D: Tm by position in 18S\n",
    "- S1E: Performance of low vs. high Tm probes"
   ]
  },
  {
   "cell_type": "code",
   "execution_count": 1,
   "metadata": {},
   "outputs": [],
   "source": [
    "#Imports\n",
    "import sys\n",
    "import pandas as pd\n",
    "import matplotlib as mpl\n",
    "import matplotlib.pyplot as plt\n",
    "import os\n",
    "import gffutils\n",
    "import seaborn as sns\n",
    "import numpy as np\n",
    "import scipy.stats as stats\n",
    "\n",
    "sys.path.append('../scripts/')\n",
    "from plot_helpers import *\n",
    "\n",
    "%matplotlib inline\n",
    "%load_ext autoreload\n",
    "%autoreload 2"
   ]
  },
  {
   "cell_type": "code",
   "execution_count": 2,
   "metadata": {},
   "outputs": [],
   "source": [
    "#load properties of probes\n",
    "prop_file = '../figures/F1/TableS1_18S_candidate_properties.csv'\n",
    "df = pd.read_csv(prop_file)\n",
    "df['percent_remaining'] = df['mean_frac_remaining']*100\n",
    "\n",
    "#Annotate id labels with categories\n",
    "pool2_ids = range(21, 31)\n",
    "lowtm_pool1_ids = range(1, 12)\n",
    "\n",
    "df['length_category'] = df['probe_num'].apply(lambda x: '~30mer' if x <= 30 else '~50mer')\n",
    "df['tm_category'] = df['probe_num'].map(lambda x: 'high Tm' if x in pool2_ids else ('low Tm' if x in lowtm_pool1_ids else np.nan))"
   ]
  },
  {
   "cell_type": "code",
   "execution_count": 3,
   "metadata": {},
   "outputs": [],
   "source": [
    "#Make outdir and load the data\n",
    "outdir = '../figures/FS2'\n",
    "os.makedirs(outdir, exist_ok = True)"
   ]
  },
  {
   "cell_type": "code",
   "execution_count": 4,
   "metadata": {},
   "outputs": [
    {
     "data": {
      "image/png": "[encoded data removed]",
      "text/plain": [
       "<Figure size 119.055x119.055 with 1 Axes>"
      ]
     },
     "metadata": {
      "needs_background": "light"
     },
     "output_type": "display_data"
    }
   ],
   "source": [
    "#Fig S1A: plot longer probes vs shorter probes\n",
    "panel_name = 'S2A'\n",
    "\n",
    "plot = Plotter(corners = [0.27, 0.27, 0.68, 0.68], figsize = (sfig, sfig))\n",
    "plot.nudge_corners(bottom = True, right = True)\n",
    "plot.setup_axis()\n",
    "#Not sure why it does a better job here not overlapping the points than in F1\n",
    "plot.ax = sns.swarmplot(x = 'length_category', y = 'percent_remaining', \n",
    "                        data = df.loc[(df['probe_num'] < 21) | (df['probe_num'] > 30)], \n",
    "                       ax = plot.ax)\n",
    "plot.set_ylabel('% 18S remaining')\n",
    "plot.set_xlabel('probe length')\n",
    "plot.add_letter('A')\n",
    "plt.savefig(os.path.join(outdir, '{}.{}'.format(panel_name, outfmt)), dpi = 600)"
   ]
  },
  {
   "cell_type": "code",
   "execution_count": 11,
   "metadata": {},
   "outputs": [
    {
     "name": "stderr",
     "output_type": "stream",
     "text": [
      "/Users/maryk.thompson/miniconda3/envs/plotting/lib/python3.7/site-packages/ipykernel_launcher.py:31: UserWarning: You have used the `textcoords` kwarg, but not the `xytext` kwarg.  This can lead to surprising results.\n"
     ]
    },
    {
     "name": "stdout",
     "output_type": "stream",
     "text": [
      "0.9949797739432688\n"
     ]
    },
    {
     "name": "stderr",
     "output_type": "stream",
     "text": [
      "/Users/maryk.thompson/miniconda3/envs/plotting/lib/python3.7/site-packages/ipykernel_launcher.py:31: UserWarning: You have used the `textcoords` kwarg, but not the `xytext` kwarg.  This can lead to surprising results.\n"
     ]
    },
    {
     "name": "stdout",
     "output_type": "stream",
     "text": [
      "0.6516702358175535\n"
     ]
    },
    {
     "name": "stderr",
     "output_type": "stream",
     "text": [
      "/Users/maryk.thompson/miniconda3/envs/plotting/lib/python3.7/site-packages/ipykernel_launcher.py:31: UserWarning: You have used the `textcoords` kwarg, but not the `xytext` kwarg.  This can lead to surprising results.\n"
     ]
    },
    {
     "name": "stdout",
     "output_type": "stream",
     "text": [
      "0.07334086574364809\n"
     ]
    },
    {
     "data": {
      "image/png": "[encoded data removed]",
      "text/plain": [
       "<Figure size 119.055x119.055 with 1 Axes>"
      ]
     },
     "metadata": {
      "needs_background": "light"
     },
     "output_type": "display_data"
    },
    {
     "data": {
      "image/png": "[encoded data removed]",
      "text/plain": [
       "<Figure size 119.055x119.055 with 1 Axes>"
      ]
     },
     "metadata": {
      "needs_background": "light"
     },
     "output_type": "display_data"
    },
    {
     "data": {
      "image/png": "[encoded data removed]",
      "text/plain": [
       "<Figure size 119.055x119.055 with 1 Axes>"
      ]
     },
     "metadata": {
      "needs_background": "light"
     },
     "output_type": "display_data"
    }
   ],
   "source": [
    "#Fig S2B - S2D: Plotting depletion vs thermodynamic properties for the first 20 probes\n",
    "#https://stackoverflow.com/questions/1452995/why-doesnt-a-python-dict-update-return-the-object\n",
    "to_plot = ['homodimer_dG', 'hairpin_dG', 'Tm']\n",
    "x_label_dict = {'homodimer_dG': r'homodimer $\\Delta$G', 'hairpin_dG': r'hairpin $\\Delta$G', 'Tm': 'Tm'}\n",
    "first_df = df.loc[df['probe_num'] < 21].copy()\n",
    "\n",
    "default_margins = {'top':False, 'bottom':False, 'left':False, 'right':False}\n",
    "to_plot = {'homodimer_dG': {'letter': 'B', 'margins': dict(default_margins, **{'bottom':True, 'left':True})},\n",
    "          'hairpin_dG': {'letter': 'C', 'margins': dict(default_margins, **{'top': True, 'right':True})},\n",
    "          'Tm': {'letter': 'D', 'margins': dict(default_margins, **{'top':True, 'left':True})}}\n",
    "\n",
    "for i in to_plot:\n",
    "    panel_name = 'S2{}'.format(to_plot[i]['letter'])\n",
    "    plot = Plotter(corners = [0.27, 0.27, 0.68, 0.68], figsize = (sfig, sfig))\n",
    "    plot.nudge_corners(top = to_plot[i]['margins']['top'], bottom = to_plot[i]['margins']['bottom'], \n",
    "                       left = to_plot[i]['margins']['left'], right = to_plot[i]['margins']['right'])\n",
    "    plot.setup_axis()\n",
    "    \n",
    "    #create a little space on the left and right so the the points don't get cutoff\n",
    "    #but the seaborn generated components only extend to the data range, so keep as is\n",
    "    #min_x = first_df[i].min() - abs(first_df[i].min()*0.05)\n",
    "    #max_x = first_df[i].max() + abs(first_df[i].max()*0.05)\n",
    "    \n",
    "    plot.ax = sns.regplot(x = i, y = 'percent_remaining', data = first_df, ax = plot.ax, scatter_kws = {'edgecolors': 'none'})\n",
    "    r_value = stats.spearmanr(first_df[i], first_df['percent_remaining'])\n",
    "\n",
    "    r_squared = r_value[0]**2\n",
    "    p_value = r_value[1]\n",
    "    plot.ax.annotate('r'r'$^2$'' = %1.2f' % r_squared, xy=(0.95, 0.85), annotation_clip=False, \n",
    "                     xytext=None, textcoords='axes fraction',fontsize = 8, arrowprops=None, \n",
    "                     ha = 'right', va = 'top')\n",
    "    \n",
    "    plot.set_ylabel('% 18S remaining')\n",
    "    plot.set_xlabel(x_label_dict[i])\n",
    "    plot.add_letter(to_plot[i]['letter'])\n",
    "    \n",
    "    print(p_value)\n",
    "    plt.savefig(os.path.join(outdir, '{}.{}'.format(panel_name, outfmt)), dpi = 600)"
   ]
  },
  {
   "cell_type": "code",
   "execution_count": 6,
   "metadata": {},
   "outputs": [
    {
     "data": {
      "image/png": "[encoded data removed]",
      "text/plain": [
       "<Figure size 238.11x119.055 with 1 Axes>"
      ]
     },
     "metadata": {
      "needs_background": "light"
     },
     "output_type": "display_data"
    }
   ],
   "source": [
    "#Fig S1E: Plot Tm vs. 18S position for the selected probes\n",
    "panel_name = 'S2E'\n",
    "plot = Plotter(corners = [0.12, 0.24, 0.855, 0.64], figsize = (sfig*2, sfig))\n",
    "plot.nudge_corners(top = True)\n",
    "plot.setup_axis()\n",
    "\n",
    "short_df = df.loc[df['probe_num'] < 31].copy()\n",
    "left_low = plot.ax.scatter(*short_df[short_df['tm_category'] == 'low Tm'][['consensus_start', 'Tm']].transpose().values, alpha = 0.8, edgecolors = 'none')\n",
    "left_hi = plot.ax.scatter(*short_df[short_df['tm_category'] == 'high Tm'][['consensus_start', 'Tm']].transpose().values, alpha = 0.8, edgecolors = 'none')\n",
    "right_mixed = plot.ax.scatter(*short_df[short_df['tm_category'].isnull()][['consensus_start', 'Tm']].transpose().values, alpha = 0.8, edgecolors = 'none')\n",
    "plot.ax.legend([left_low, left_hi, right_mixed], ['left arm, low Tm', 'left arm, high Tm', 'right arm'], \n",
    "               mode = 'expand', fontsize = 8, ncol = 3, bbox_to_anchor=(0., 1.02, 1., .102), loc=3, \n",
    "               borderaxespad=0., handletextpad = -0.2)\n",
    "\n",
    "plot.set_ylabel('Tm')\n",
    "plot.set_xlabel('position in 18S (nt)')\n",
    "plot.add_letter('E')\n",
    "\n",
    "plt.savefig(os.path.join(outdir, '{}.{}'.format(panel_name, outfmt)), dpi = 600)"
   ]
  },
  {
   "cell_type": "code",
   "execution_count": null,
   "metadata": {},
   "outputs": [],
   "source": []
  }
 ],
 "metadata": {
  "kernelspec": {
   "display_name": "Python 3",
   "language": "python",
   "name": "python3"
  },
  "language_info": {
   "codemirror_mode": {
    "name": "ipython",
    "version": 3
   },
   "file_extension": ".py",
   "mimetype": "text/x-python",
   "name": "python",
   "nbconvert_exporter": "python",
   "pygments_lexer": "ipython3",
   "version": "3.7.6"
  }
 },
 "nbformat": 4,
 "nbformat_minor": 4
}
